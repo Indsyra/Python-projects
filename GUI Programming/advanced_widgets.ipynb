{
 "cells": [
  {
   "cell_type": "code",
   "execution_count": null,
   "id": "f6be630f",
   "metadata": {},
   "outputs": [],
   "source": [
    "# Advanced Widgets : ListBox (display the list of items), ScrollBar (scroll through the content in widget), Frame (Organise widgets into sections)"
   ]
  },
  {
   "cell_type": "code",
   "execution_count": 4,
   "id": "498a6ed6",
   "metadata": {},
   "outputs": [
    {
     "name": "stdout",
     "output_type": "stream",
     "text": [
      "Selected: Task 1\n",
      "Selected: Task 2\n"
     ]
    }
   ],
   "source": [
    "# Using ListBox for Dynamic Lists (supports multiselection scrolling and dynamic updates)\n",
    "import tkinter as tk\n",
    "\n",
    "root = tk.Tk()\n",
    "root.title(\"Listbox example\")\n",
    "root.geometry(\"300x300\")\n",
    "\n",
    "# ListBox Widget\n",
    "listbox = tk.Listbox(root)\n",
    "listbox.pack(pady=10)\n",
    "\n",
    "# Add Items to ListBox\n",
    "listbox.insert(tk.END, \"Task 1\") ## First element: Position (tk.END means the end of the current widget), Second elemend: The string to add\n",
    "listbox.insert(tk.END, \"Task 2\")\n",
    "\n",
    "\n",
    "# Get selected item\n",
    "def get_selected():\n",
    "    selected = listbox.get(tk.ACTIVE)\n",
    "    print(\"Selected:\", selected)\n",
    "\n",
    "\n",
    "button = tk.Button(\n",
    "    root,\n",
    "    text=\"Get Selected\",\n",
    "    command=get_selected\n",
    ")\n",
    "button.pack(pady=10)\n",
    "\n",
    "# Run application\n",
    "root.mainloop()"
   ]
  },
  {
   "cell_type": "code",
   "execution_count": 5,
   "id": "58ace66a",
   "metadata": {},
   "outputs": [],
   "source": [
    "# ScrollBar Integration : Often associated to listbox to scroll within items\n",
    "import tkinter as tk\n",
    "\n",
    "root = tk.Tk()\n",
    "root.title(\"Listbox with Scrollbar\")\n",
    "root.geometry(\"300x300\")\n",
    "\n",
    "# Frame for Listbox and Scrollbar\n",
    "frame = tk.Frame(root)\n",
    "frame.pack(pady=10)\n",
    "\n",
    "# Scrollbar\n",
    "scrollbar = tk.Scrollbar(frame)\n",
    "scrollbar.pack(side=tk.RIGHT, fill=tk.Y)\n",
    "\n",
    "# ListBox Widget\n",
    "listbox = tk.Listbox(frame, yscrollcommand=scrollbar.set, height=10)\n",
    "listbox.pack()\n",
    "\n",
    "# Configure Scrollbar\n",
    "scrollbar.config(command=listbox.yview)\n",
    "\n",
    "# Add Items to ListBox\n",
    "for i in range(1,21):\n",
    "    listbox.insert(tk.END, f\"Task {i}\") ## First element: Position (tk.END means the end of the current widget), Second elemend: The string to add\n",
    "\n",
    "# Run application\n",
    "root.mainloop()"
   ]
  },
  {
   "cell_type": "code",
   "execution_count": 6,
   "id": "5cfdb54c",
   "metadata": {},
   "outputs": [],
   "source": [
    "# Handling User Actions (Add, Delete, Clear)\n",
    "import tkinter as tk\n",
    "\n",
    "root = tk.Tk()\n",
    "root.title(\"ListBox Management\")\n",
    "root.geometry(\"300x300\")\n",
    "\n",
    "# ListBox Widget\n",
    "listbox = tk.Listbox(root)\n",
    "listbox.pack(pady=10)\n",
    "\n",
    "\n",
    "# Add Item\n",
    "def add_item():\n",
    "    item = entry.get()\n",
    "    if item:\n",
    "        listbox.insert(tk.END, item)\n",
    "        entry.delete(0,tk.END)\n",
    "\n",
    "\n",
    "# Delete Item\n",
    "def delete_item():\n",
    "    selected = listbox.curselection()\n",
    "    if selected:\n",
    "        listbox.delete(selected[0])\n",
    "\n",
    "# Entry Field\n",
    "entry = tk.Entry(root)\n",
    "entry.pack(pady=10)\n",
    "\n",
    "\n",
    "# Buttons\n",
    "add_button = tk.Button(\n",
    "    root,\n",
    "    text = \"Add Item\",\n",
    "    command=add_item\n",
    ")\n",
    "add_button.pack(pady=5)\n",
    "\n",
    "delete_button = tk.Button(\n",
    "    root,\n",
    "    text=\"Delete Item\",\n",
    "    command=delete_item\n",
    ")\n",
    "delete_button.pack(pady=5)\n",
    "\n",
    "# Run application\n",
    "root.mainloop()"
   ]
  },
  {
   "cell_type": "code",
   "execution_count": null,
   "id": "48b67206",
   "metadata": {},
   "outputs": [],
   "source": []
  }
 ],
 "metadata": {
  "kernelspec": {
   "display_name": "Python 3",
   "language": "python",
   "name": "python3"
  },
  "language_info": {
   "codemirror_mode": {
    "name": "ipython",
    "version": 3
   },
   "file_extension": ".py",
   "mimetype": "text/x-python",
   "name": "python",
   "nbconvert_exporter": "python",
   "pygments_lexer": "ipython3",
   "version": "3.11.8"
  }
 },
 "nbformat": 4,
 "nbformat_minor": 5
}
