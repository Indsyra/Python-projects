{
 "cells": [
  {
   "cell_type": "code",
   "execution_count": 3,
   "id": "cd9a187a",
   "metadata": {},
   "outputs": [
    {
     "name": "stdout",
     "output_type": "stream",
     "text": [
      "Button clicked!\n"
     ]
    }
   ],
   "source": [
    "# How buttons work in tkinter\n",
    "\n",
    "import tkinter as tk\n",
    "\n",
    "#Main Window\n",
    "root = tk.Tk()\n",
    "root.title(\"Basic Button Example\")\n",
    "root.geometry(\"300x200\")\n",
    "\n",
    "# Button Click Handler\n",
    "def on_click():\n",
    "    print(\"Button clicked!\")\n",
    "\n",
    "# Create Button\n",
    "button = tk.Button(root, text=\"Click Me\", command=on_click)\n",
    "button.pack(pady=20)\n",
    "\n",
    "# Run the application\n",
    "root.mainloop()"
   ]
  },
  {
   "cell_type": "code",
   "execution_count": 4,
   "id": "f6ccbbaf",
   "metadata": {},
   "outputs": [],
   "source": [
    "# Binding Events to Buttons\n",
    "# Mouse hover\n",
    "\n",
    "import tkinter as tk\n",
    "\n",
    "#Main Window\n",
    "root = tk.Tk()\n",
    "root.title(\"Button Events\")\n",
    "root.geometry(\"300x200\")\n",
    "\n",
    "# Event Handlers\n",
    "def on_enter(event):\n",
    "    button.config(text=\"Mouse Over\")\n",
    "\n",
    "def on_leave(event):\n",
    "    button.config(text=\"Mouse Out\")\n",
    "\n",
    "# Create Button\n",
    "button = tk.Button(root, text=\"Hover Me\")\n",
    "button.pack(pady=20)\n",
    "\n",
    "# Bind events\n",
    "button.bind(\"<Enter>\", on_enter)\n",
    "button.bind(\"<Leave>\", on_leave)\n",
    "\n",
    "root.mainloop()"
   ]
  },
  {
   "cell_type": "code",
   "execution_count": 5,
   "id": "247a6c34",
   "metadata": {},
   "outputs": [],
   "source": [
    "# Dynamic Updates using button events\n",
    "import tkinter as tk\n",
    "\n",
    "root = tk.Tk()\n",
    "root.title(\"Dynamic Button Counter\")\n",
    "root.geometry(\"300x200\")\n",
    "\n",
    "# Counter Variable\n",
    "counter = 0\n",
    "\n",
    "def increment_counter():\n",
    "    global counter\n",
    "    counter += 1\n",
    "    label.config(text=f\"Count: {counter}\")\n",
    "\n",
    "# Label and Button\n",
    "label = tk.Label(root, text=\"Count: 0\", font=(\"Arial\", 14))\n",
    "label.pack(pady=10)\n",
    "\n",
    "button = tk.Button(root, text=\"Click Me\", command=increment_counter)\n",
    "button.pack(pady=10)\n",
    "\n",
    "root.mainloop()"
   ]
  },
  {
   "cell_type": "code",
   "execution_count": 6,
   "id": "732a83bb",
   "metadata": {},
   "outputs": [],
   "source": [
    "# Managing Button States\n",
    "import tkinter as tk\n",
    "\n",
    "# Main Window\n",
    "root = tk.Tk()\n",
    "root.title(\"Button State Management\")\n",
    "root.geometry(\"300x200\")\n",
    "\n",
    "def toggle_button():\n",
    "    if button['state'] == 'normal':\n",
    "        button.config(text=\"I am sleepy\", state='disabled')\n",
    "        toggle_btn.config(text=\"Enable Button\")\n",
    "    else:\n",
    "        button.config(text=\"I am active\", state='normal')\n",
    "        toggle_btn.config(text=\"Disable Button\")\n",
    "\n",
    "# Buttons\n",
    "button = tk.Button(root, text=\"I am active\")\n",
    "button.pack(pady=10)\n",
    "\n",
    "toggle_btn = tk.Button(root, text=\"Disable Button\", command=toggle_button)\n",
    "toggle_btn.pack(pady=10)\n",
    "\n",
    "root.mainloop()"
   ]
  },
  {
   "cell_type": "code",
   "execution_count": null,
   "id": "69bd5eba",
   "metadata": {},
   "outputs": [],
   "source": []
  }
 ],
 "metadata": {
  "kernelspec": {
   "display_name": "Python 3",
   "language": "python",
   "name": "python3"
  },
  "language_info": {
   "codemirror_mode": {
    "name": "ipython",
    "version": 3
   },
   "file_extension": ".py",
   "mimetype": "text/x-python",
   "name": "python",
   "nbconvert_exporter": "python",
   "pygments_lexer": "ipython3",
   "version": "3.11.8"
  }
 },
 "nbformat": 4,
 "nbformat_minor": 5
}
