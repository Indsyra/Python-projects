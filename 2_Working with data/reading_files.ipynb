{
 "cells": [
  {
   "cell_type": "code",
   "execution_count": 1,
   "id": "9133c4e1",
   "metadata": {},
   "outputs": [
    {
     "name": "stdout",
     "output_type": "stream",
     "text": [
      "Recipe: Pancakes\n",
      "Ingredients: Flour, Milk, Eggs, Sugar\n",
      "Instructions: Mix and fry\n"
     ]
    }
   ],
   "source": [
    "# Process of accessing and extracting data from a file\n",
    "\n",
    "with open(\"./assets/sample.txt\", \"r\") as file: # This syntax opens the file in read mode and ensures it will be closed after the block\n",
    "    # Read the entire content of the file\n",
    "    content = file.read()\n",
    "    print(content)"
   ]
  },
  {
   "cell_type": "code",
   "execution_count": 2,
   "id": "54b575f5",
   "metadata": {},
   "outputs": [
    {
     "name": "stdout",
     "output_type": "stream",
     "text": [
      "Recipe: Pancakes\n",
      "Ingredients: Flour, Milk, Eggs, Sugar\n",
      "Instructions: Mix and fry\n"
     ]
    }
   ],
   "source": [
    "with open(\"./assets/sample.txt\", \"r\") as file: # This syntax opens the file in read mode and ensures it will be closed after the block\n",
    "    for line in file:  # This reads the file line by line\n",
    "        print(line.strip())"
   ]
  },
  {
   "cell_type": "code",
   "execution_count": 3,
   "id": "2aa8e4c0",
   "metadata": {},
   "outputs": [
    {
     "name": "stdout",
     "output_type": "stream",
     "text": [
      "Recipe: Pancakes\n",
      "Ingredients: Flour, Milk, Eggs, Sugar\n",
      "Instructions: Mix and fry\n"
     ]
    }
   ],
   "source": [
    "# rb mode is used for reading binary files\n",
    "with open(\"./assets/sample.txt\", \"r\") as file:  # This opens the file in binary read mode\n",
    "    lines = file.readlines()\n",
    "    for line in lines:\n",
    "        print(line.strip())"
   ]
  },
  {
   "cell_type": "code",
   "execution_count": 4,
   "id": "b6e28207",
   "metadata": {},
   "outputs": [
    {
     "name": "stdout",
     "output_type": "stream",
     "text": [
      "The file does not exist.\n"
     ]
    }
   ],
   "source": [
    "try:\n",
    "    with open(\"./assets/mysteriousfile.txt\", \"r\") as file:  # This opens the file in read mode\n",
    "        content = file.read()\n",
    "        print(content)\n",
    "except FileNotFoundError:\n",
    "    print(\"The file does not exist.\")"
   ]
  },
  {
   "cell_type": "code",
   "execution_count": null,
   "id": "774f6ae5",
   "metadata": {},
   "outputs": [
    {
     "name": "stdout",
     "output_type": "stream",
     "text": [
      "\n",
      "------- Recipe Viewer -------\n",
      "1. View Recipe by name\n",
      "2. View All Recipes\n",
      "3. Exit\n",
      "\n",
      "Salad\n",
      "Ingredients:\n",
      "Lettuce, Tomato, Cucumber, Dressing\n",
      "Instructions:\n",
      "Chop ingredients and Mix\n",
      "\n",
      "------- Recipe Viewer -------\n",
      "1. View Recipe by name\n",
      "2. View All Recipes\n",
      "3. Exit\n",
      "\n",
      "------- All Recipes -------\n",
      "Pancakes\n",
      "Salad\n",
      "Smoothie\n",
      "\n",
      "------- Recipe Viewer -------\n",
      "1. View Recipe by name\n",
      "2. View All Recipes\n",
      "3. Exit\n",
      "\n",
      "------- All Recipes -------\n",
      "Pancakes\n",
      "Salad\n",
      "Smoothie\n",
      "\n",
      "------- Recipe Viewer -------\n",
      "1. View Recipe by name\n",
      "2. View All Recipes\n",
      "3. Exit\n",
      "Invalid choice. Please try again.\n",
      "\n",
      "------- Recipe Viewer -------\n",
      "1. View Recipe by name\n",
      "2. View All Recipes\n",
      "3. Exit\n",
      "Exiting the Recipe Viewer. Goodbye!\n"
     ]
    }
   ],
   "source": [
    "# Recipe Viewer App\n",
    "\n",
    "# Step 1: Load recipes from a file\n",
    "def load_recipes(file_path):\n",
    "    try:\n",
    "        with open(file_path, \"r\") as file:\n",
    "            content = file.read()\n",
    "            recipes = content.split(\"\\n\\n\")\n",
    "            recipe_dict = {}\n",
    "            for recipe in recipes:\n",
    "                lines = recipe.strip().split(\"\\n\")\n",
    "                if len(lines) >= 3:\n",
    "                    title = lines[0].strip()\n",
    "                    ingredients = lines[1].replace(\"Ingredients:\", \"\").strip()\n",
    "                    instructions = lines[2].replace(\"Instructions:\", \"\").strip()\n",
    "                    recipe_dict[title] = {\n",
    "                        \"ingredients\": ingredients,\n",
    "                        \"instructions\": instructions\n",
    "                    }\n",
    "            return recipe_dict\n",
    "    except FileNotFoundError:\n",
    "        print(\"The recipe file does not exist.\")\n",
    "        return {}\n",
    "    \n",
    "# Step 2: Display Recipe menu\n",
    "def show_menu():\n",
    "    print(\"\\n------- Recipe Viewer -------\")\n",
    "    print(\"1. View Recipe by name\")\n",
    "    print(\"2. View All Recipes\")\n",
    "    print(\"3. Exit\")\n",
    "    \n",
    "# Step 3: View recipe details\n",
    "def view_recipe(recipes):\n",
    "    recipe_name = input(\"Enter the recipe name: \").strip()\n",
    "    if recipe_name in recipes:\n",
    "        print(f\"\\n{recipe_name}\")\n",
    "        print(\"Ingredients: \", recipes[recipe_name][\"ingredients\"])\n",
    "        print(\"Instructions: \", recipes[recipe_name][\"instructions\"])\n",
    "        \n",
    "    else:\n",
    "        print(\"Recipe not found.\")\n",
    "        \n",
    "# Step 4: Main Program Loop\n",
    "recipe_file = \"./assets/recipe.txt\"\n",
    "recipes = load_recipes(recipe_file)\n",
    "\n",
    "while True:\n",
    "    show_menu()\n",
    "    choice = input(\"Enter your choice (1-3): \").strip()\n",
    "    \n",
    "    if choice == \"1\":\n",
    "        view_recipe(recipes)\n",
    "    elif choice == \"2\":\n",
    "        print(\"\\n------- All Recipes -------\")\n",
    "        for recipe in recipes:\n",
    "            print(recipe)\n",
    "    elif choice == \"3\":\n",
    "        print(\"Exiting the Recipe Viewer. Goodbye!\")\n",
    "        break\n",
    "    else:\n",
    "        print(\"Invalid choice. Please try again.\")"
   ]
  },
  {
   "cell_type": "code",
   "execution_count": null,
   "id": "d14098c4",
   "metadata": {},
   "outputs": [],
   "source": []
  }
 ],
 "metadata": {
  "kernelspec": {
   "display_name": "Python 3",
   "language": "python",
   "name": "python3"
  },
  "language_info": {
   "codemirror_mode": {
    "name": "ipython",
    "version": 3
   },
   "file_extension": ".py",
   "mimetype": "text/x-python",
   "name": "python",
   "nbconvert_exporter": "python",
   "pygments_lexer": "ipython3",
   "version": "3.11.8"
  }
 },
 "nbformat": 4,
 "nbformat_minor": 5
}
