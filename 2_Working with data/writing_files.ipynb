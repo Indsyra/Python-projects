{
 "cells": [
  {
   "cell_type": "code",
   "execution_count": 1,
   "id": "6539c6d8",
   "metadata": {},
   "outputs": [],
   "source": [
    "# Mode for writing to a file: write mode (w), append mode (a), or w+ mode.\n",
    "\n",
    "with open(\"./assets/journal.txt\", \"w\") as file:\n",
    "    file.write(\"Day 1: Today I learned about writing files in Python.\\n\")"
   ]
  },
  {
   "cell_type": "code",
   "execution_count": null,
   "id": "7e427fd5",
   "metadata": {},
   "outputs": [],
   "source": [
    "# Mode for writing to a file: write mode (w), append mode (a), or w+ mode.\n",
    "\n",
    "with open(\"./assets/journal.txt\", \"a\") as file:\n",
    "    file.write(\"Day 2: I built a journal logger today !.\\n\")"
   ]
  },
  {
   "cell_type": "code",
   "execution_count": 2,
   "id": "aff604a9",
   "metadata": {},
   "outputs": [
    {
     "ename": "FileNotFoundError",
     "evalue": "[Errno 2] No such file or directory: '/restricted/journal.txt'",
     "output_type": "error",
     "traceback": [
      "\u001b[31m---------------------------------------------------------------------------\u001b[39m",
      "\u001b[31mFileNotFoundError\u001b[39m                         Traceback (most recent call last)",
      "\u001b[36mCell\u001b[39m\u001b[36m \u001b[39m\u001b[32mIn[2]\u001b[39m\u001b[32m, line 2\u001b[39m\n\u001b[32m      1\u001b[39m \u001b[38;5;28;01mtry\u001b[39;00m:\n\u001b[32m----> \u001b[39m\u001b[32m2\u001b[39m     \u001b[38;5;28;01mwith\u001b[39;00m \u001b[38;5;28;43mopen\u001b[39;49m\u001b[43m(\u001b[49m\u001b[33;43m\"\u001b[39;49m\u001b[33;43m/restricted/journal.txt\u001b[39;49m\u001b[33;43m\"\u001b[39;49m\u001b[43m,\u001b[49m\u001b[43m \u001b[49m\u001b[33;43m\"\u001b[39;49m\u001b[33;43mw\u001b[39;49m\u001b[33;43m\"\u001b[39;49m\u001b[43m)\u001b[49m \u001b[38;5;28;01mas\u001b[39;00m file:\n\u001b[32m      3\u001b[39m         file.write(\u001b[33m\"\u001b[39m\u001b[33mText entry.\u001b[39m\u001b[38;5;130;01m\\n\u001b[39;00m\u001b[33m\"\u001b[39m)\n\u001b[32m      4\u001b[39m \u001b[38;5;28;01mexcept\u001b[39;00m \u001b[38;5;167;01mPermissionError\u001b[39;00m \u001b[38;5;28;01mas\u001b[39;00m e:\n",
      "\u001b[36mFile \u001b[39m\u001b[32m~\\AppData\\Roaming\\Python\\Python311\\site-packages\\IPython\\core\\interactiveshell.py:326\u001b[39m, in \u001b[36m_modified_open\u001b[39m\u001b[34m(file, *args, **kwargs)\u001b[39m\n\u001b[32m    319\u001b[39m \u001b[38;5;28;01mif\u001b[39;00m file \u001b[38;5;129;01min\u001b[39;00m {\u001b[32m0\u001b[39m, \u001b[32m1\u001b[39m, \u001b[32m2\u001b[39m}:\n\u001b[32m    320\u001b[39m     \u001b[38;5;28;01mraise\u001b[39;00m \u001b[38;5;167;01mValueError\u001b[39;00m(\n\u001b[32m    321\u001b[39m         \u001b[33mf\u001b[39m\u001b[33m\"\u001b[39m\u001b[33mIPython won\u001b[39m\u001b[33m'\u001b[39m\u001b[33mt let you open fd=\u001b[39m\u001b[38;5;132;01m{\u001b[39;00mfile\u001b[38;5;132;01m}\u001b[39;00m\u001b[33m by default \u001b[39m\u001b[33m\"\u001b[39m\n\u001b[32m    322\u001b[39m         \u001b[33m\"\u001b[39m\u001b[33mas it is likely to crash IPython. If you know what you are doing, \u001b[39m\u001b[33m\"\u001b[39m\n\u001b[32m    323\u001b[39m         \u001b[33m\"\u001b[39m\u001b[33myou can use builtins\u001b[39m\u001b[33m'\u001b[39m\u001b[33m open.\u001b[39m\u001b[33m\"\u001b[39m\n\u001b[32m    324\u001b[39m     )\n\u001b[32m--> \u001b[39m\u001b[32m326\u001b[39m \u001b[38;5;28;01mreturn\u001b[39;00m \u001b[43mio_open\u001b[49m\u001b[43m(\u001b[49m\u001b[43mfile\u001b[49m\u001b[43m,\u001b[49m\u001b[43m \u001b[49m\u001b[43m*\u001b[49m\u001b[43margs\u001b[49m\u001b[43m,\u001b[49m\u001b[43m \u001b[49m\u001b[43m*\u001b[49m\u001b[43m*\u001b[49m\u001b[43mkwargs\u001b[49m\u001b[43m)\u001b[49m\n",
      "\u001b[31mFileNotFoundError\u001b[39m: [Errno 2] No such file or directory: '/restricted/journal.txt'"
     ]
    }
   ],
   "source": [
    "try:\n",
    "    with open(\"/restricted/journal.txt\", \"w\") as file:\n",
    "        file.write(\"Text entry.\\n\")\n",
    "except PermissionError as e:\n",
    "    print(f\"You do not have permission to write to this file: {e}\")"
   ]
  },
  {
   "cell_type": "code",
   "execution_count": null,
   "id": "af77466f",
   "metadata": {},
   "outputs": [
    {
     "name": "stdout",
     "output_type": "stream",
     "text": [
      "\n",
      "--- Daily Journal Logger ---\n",
      "1. Add Entry\n",
      "2. View Entries\n",
      "3. Search Entries\n",
      "4. Exit\n",
      "\n",
      "------- Search Results: -------\n",
      "Day 3: Something cool\n",
      "\n",
      "--- Daily Journal Logger ---\n",
      "1. Add Entry\n",
      "2. View Entries\n",
      "3. Search Entries\n",
      "4. Exit\n",
      "Invalid choice. Please try again.\n",
      "\n",
      "--- Daily Journal Logger ---\n",
      "1. Add Entry\n",
      "2. View Entries\n",
      "3. Search Entries\n",
      "4. Exit\n",
      "\n",
      "------- Search Results: -------\n",
      "Day 1: Learn Python Programming\n",
      "Day 2: Learn AI Programming\n",
      "\n",
      "--- Daily Journal Logger ---\n",
      "1. Add Entry\n",
      "2. View Entries\n",
      "3. Search Entries\n",
      "4. Exit\n"
     ]
    }
   ],
   "source": [
    "# Daily Journal Logger\n",
    "\n",
    "# Step 1: Define the journal file\n",
    "JOURNAL_FILE = \"./assets/daily_journal.txt\"\n",
    "\n",
    "# Step 2: Add a new entry to the journal\n",
    "def add_entry():\n",
    "    entry = input(\"Enter your journal entry: \")\n",
    "    with open(JOURNAL_FILE, \"a\") as file:\n",
    "        file.write(entry + \"\\n\")\n",
    "    print(\"Entry added successfully.\")\n",
    "    \n",
    "# Step 3: View all entries in the journal\n",
    "def view_entries():\n",
    "    try:\n",
    "        with open(JOURNAL_FILE, 'r') as file:\n",
    "            content = file.read()\n",
    "        if content:\n",
    "            print(\"\\n------- Journal Entries: -------\")\n",
    "            print(content)\n",
    "        else:\n",
    "            print(\"No entries found in the journal. Start writing your first entry!\")\n",
    "    except FileNotFoundError:\n",
    "        print(\"Journal file does not exist. Please add an entry first.\")\n",
    "        \n",
    "    # Step 4: Searche entries by keyword\n",
    "def search_entries():\n",
    "    keyword = input(\"Enter a keyword to search for: \")\n",
    "    try:\n",
    "        with open(JOURNAL_FILE, 'r') as file:\n",
    "            entries = file.readlines()\n",
    "            found = False\n",
    "            print(\"\\n------- Search Results: -------\")\n",
    "        for entry in entries:\n",
    "            if keyword.lower() in entry.lower():\n",
    "                print(entry.strip())\n",
    "                found = True\n",
    "        if not found:\n",
    "            print(f\"No entries found containing the keyword '{keyword}'.\")\n",
    "\n",
    "    except FileNotFoundError:\n",
    "        print(\"Journal file does not exist. Please add an entry first.\")\n",
    "        \n",
    "# Step 5: Display menu for the journal logger\n",
    "def show_menu():\n",
    "    print(\"\\n--- Daily Journal Logger ---\")\n",
    "    print(\"1. Add Entry\")\n",
    "    print(\"2. View Entries\")\n",
    "    print(\"3. Search Entries\")\n",
    "    print(\"4. Exit\")\n",
    "    \n",
    "# Step 6: Main loop to run the journal logger\n",
    "while True:\n",
    "    show_menu()\n",
    "    choice = input(\"Choose an option (1-4): \")\n",
    "    \n",
    "    if choice == '1':\n",
    "        add_entry()\n",
    "    elif choice == '2':\n",
    "        view_entries()\n",
    "    elif choice == '3':\n",
    "        search_entries()\n",
    "    elif choice == '4':\n",
    "        print(\"Exiting the journal logger. Goodbye!\")\n",
    "        break\n",
    "    else:\n",
    "        print(\"Invalid choice. Please try again.\")"
   ]
  },
  {
   "cell_type": "code",
   "execution_count": null,
   "id": "6b03ba9f",
   "metadata": {},
   "outputs": [],
   "source": []
  }
 ],
 "metadata": {
  "kernelspec": {
   "display_name": "Python 3",
   "language": "python",
   "name": "python3"
  },
  "language_info": {
   "codemirror_mode": {
    "name": "ipython",
    "version": 3
   },
   "file_extension": ".py",
   "mimetype": "text/x-python",
   "name": "python",
   "nbconvert_exporter": "python",
   "pygments_lexer": "ipython3",
   "version": "3.11.8"
  }
 },
 "nbformat": 4,
 "nbformat_minor": 5
}
