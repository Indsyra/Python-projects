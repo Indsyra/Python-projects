{
 "cells": [
  {
   "cell_type": "code",
   "execution_count": 1,
   "id": "e7806b0a",
   "metadata": {},
   "outputs": [],
   "source": [
    "my_tuple = (1, 2, 3)"
   ]
  },
  {
   "cell_type": "code",
   "execution_count": 2,
   "id": "9a240f64",
   "metadata": {},
   "outputs": [
    {
     "name": "stdout",
     "output_type": "stream",
     "text": [
      "apple\n",
      "cherry\n"
     ]
    }
   ],
   "source": [
    "fruits = (\"apple\", \"banana\", \"cherry\")\n",
    "\n",
    "print(fruits[0])\n",
    "print(fruits[-1])"
   ]
  },
  {
   "cell_type": "code",
   "execution_count": 3,
   "id": "cd00dcc6",
   "metadata": {},
   "outputs": [
    {
     "name": "stdout",
     "output_type": "stream",
     "text": [
      "10\n",
      "20\n",
      "30\n"
     ]
    }
   ],
   "source": [
    "#Unpack a tuple\n",
    "coordinates = (10, 20, 30)\n",
    "x, y, z = coordinates\n",
    "print(x)\n",
    "print(y)\n",
    "print(z)"
   ]
  },
  {
   "cell_type": "code",
   "execution_count": 5,
   "id": "8090f5a8",
   "metadata": {},
   "outputs": [
    {
     "name": "stdout",
     "output_type": "stream",
     "text": [
      "3\n",
      "('apple', 'banana', 'cherry', 'orange')\n"
     ]
    }
   ],
   "source": [
    "# Tuple operations\n",
    "\n",
    "# Length\n",
    "print(len(fruits))\n",
    "\n",
    "# Tuple addition\n",
    "print(fruits + (\"orange\",))"
   ]
  },
  {
   "cell_type": "code",
   "execution_count": 6,
   "id": "7fdd129b",
   "metadata": {},
   "outputs": [],
   "source": [
    "# sets : mutable, not ordered, don't allow duplicates\n",
    "\n",
    "my_set = {1, 2, 3}"
   ]
  },
  {
   "cell_type": "code",
   "execution_count": 7,
   "id": "f29cadd6",
   "metadata": {},
   "outputs": [],
   "source": [
    "ingredients = {\"flour\", \"sugar\", \"butter\"}"
   ]
  },
  {
   "cell_type": "code",
   "execution_count": 9,
   "id": "3293c11c",
   "metadata": {},
   "outputs": [
    {
     "name": "stdout",
     "output_type": "stream",
     "text": [
      "{'flour', 'sugar', 'butter', 'eggs'}\n"
     ]
    }
   ],
   "source": [
    "ingredients.add(\"eggs\")\n",
    "print(ingredients)"
   ]
  },
  {
   "cell_type": "code",
   "execution_count": 10,
   "id": "87ad32fd",
   "metadata": {},
   "outputs": [
    {
     "name": "stdout",
     "output_type": "stream",
     "text": [
      "{'flour', 'butter', 'eggs'}\n"
     ]
    }
   ],
   "source": [
    "ingredients.remove(\"sugar\")\n",
    "print(ingredients)"
   ]
  },
  {
   "cell_type": "code",
   "execution_count": 11,
   "id": "b539db1a",
   "metadata": {},
   "outputs": [
    {
     "name": "stdout",
     "output_type": "stream",
     "text": [
      "True\n"
     ]
    }
   ],
   "source": [
    "print(\"eggs\" in ingredients)"
   ]
  },
  {
   "cell_type": "code",
   "execution_count": 13,
   "id": "721cec9b",
   "metadata": {},
   "outputs": [
    {
     "name": "stdout",
     "output_type": "stream",
     "text": [
      "{'flour', 'sugar', 'butter', 'eggs'}\n",
      "{'sugar'}\n",
      "{'flour', 'butter'}\n"
     ]
    }
   ],
   "source": [
    "# Union, intersection, difference\n",
    "\n",
    "set_a =   {\"flour\", \"sugar\", \"butter\"}\n",
    "set_b =  {\"sugar\", \"eggs\"}\n",
    "\n",
    "print(set_a | set_b) # Union\n",
    "print(set_a & set_b) # Intersection\n",
    "print(set_a - set_b) # Difference"
   ]
  },
  {
   "cell_type": "code",
   "execution_count": 16,
   "id": "84d1d956",
   "metadata": {},
   "outputs": [
    {
     "name": "stdout",
     "output_type": "stream",
     "text": [
      "\n",
      "------ Ingredient Check Results ------\n",
      "You are missing the following ingredients : eggs, butter, milk\n",
      "You additionnally have the following ingredients : pepper, water, salt\n"
     ]
    }
   ],
   "source": [
    "# Ingredient Checker project\n",
    "\n",
    "# Step 1: Define the recipe ingredients\n",
    "recipe_ingredients = {\"flour\", \"sugar\", \"butter\", \"eggs\", \"milk\"}\n",
    "\n",
    "# Step 2: Ask user input for available ingredients\n",
    "user_input = input(\"Enter the ingredients you have (separated by comma) :\")\n",
    "user_ingredients = set(user_input.split(\", \"))\n",
    "\n",
    "# Step 3: Compare ingredients\n",
    "missing_ingredients = recipe_ingredients - user_ingredients\n",
    "extra_ingredients = user_ingredients - recipe_ingredients\n",
    "\n",
    "# Step 4: Display Results\n",
    "print(\"\\n------ Ingredient Check Results ------\")\n",
    "if missing_ingredients:\n",
    "    print(f\"You are missing the following ingredients : {', '.join(missing_ingredients)}\")\n",
    "else:\n",
    "    print(\"You have all the ingredients needed.\")  \n",
    "\n",
    "if extra_ingredients:\n",
    "    print(f\"You additionnally have the following ingredients : {', '.join(extra_ingredients)}\")"
   ]
  },
  {
   "cell_type": "code",
   "execution_count": null,
   "id": "7d26b3db",
   "metadata": {},
   "outputs": [],
   "source": []
  }
 ],
 "metadata": {
  "kernelspec": {
   "display_name": "Python 3",
   "language": "python",
   "name": "python3"
  },
  "language_info": {
   "codemirror_mode": {
    "name": "ipython",
    "version": 3
   },
   "file_extension": ".py",
   "mimetype": "text/x-python",
   "name": "python",
   "nbconvert_exporter": "python",
   "pygments_lexer": "ipython3",
   "version": "3.11.8"
  }
 },
 "nbformat": 4,
 "nbformat_minor": 5
}
