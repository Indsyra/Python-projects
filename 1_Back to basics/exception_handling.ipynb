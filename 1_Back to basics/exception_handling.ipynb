{
 "cells": [
  {
   "cell_type": "code",
   "execution_count": 2,
   "id": "097c5da6",
   "metadata": {},
   "outputs": [
    {
     "name": "stdout",
     "output_type": "stream",
     "text": [
      "Result: 1.0\n"
     ]
    }
   ],
   "source": [
    "# Exceptions : errors that occur during the execution that Python handles preventing the code to crash\n",
    "# Exception handling is done using try/except blocks\n",
    "\n",
    "try:\n",
    "    num = int(input(\"Enter a number: \"))\n",
    "    result = 10 / num\n",
    "    print(f\"Result: {result}\")\n",
    "except ZeroDivisionError:\n",
    "    print(\"Error: You cannot divide by zero.\")\n",
    "except ValueError:\n",
    "    print(\"Error: Please enter a valid integer.\")"
   ]
  },
  {
   "cell_type": "code",
   "execution_count": null,
   "id": "9a0edc86",
   "metadata": {},
   "outputs": [],
   "source": [
    "try:\n",
    "    # Code that might raise an exception\n",
    "except ExceptionType:\n",
    "    # Code to handle the exception\n",
    "    pass\n",
    "else:\n",
    "    # Code that runs if no exceptions were raised\n",
    "    print(\"No exceptions occurred.\")\n",
    "finally:\n",
    "    # Code that runs no matter what, even if an exception was raised\n",
    "    print(\"Execution completed.\")"
   ]
  },
  {
   "cell_type": "code",
   "execution_count": 3,
   "id": "9f52cb80",
   "metadata": {},
   "outputs": [
    {
     "name": "stdout",
     "output_type": "stream",
     "text": [
      "Result: 3.3333333333333335\n",
      "No exception occurred. Result : 3.3333333333333335\n",
      "Finally block executed. Program ended.\n"
     ]
    }
   ],
   "source": [
    "try:\n",
    "    num = int(input(\"Enter a number: \"))\n",
    "    result = 10 / num\n",
    "    print(f\"Result: {result}\")\n",
    "except ZeroDivisionError as e:\n",
    "    print(\"Error: Division by zero is not allowed.\")\n",
    "except ValueError as e:\n",
    "    print(\"Error: Invalid input. Please enter a number.\")\n",
    "else:\n",
    "    print(f\"No exception occurred. Result : {result}\")\n",
    "finally:\n",
    "    print(\"Finally block executed. Program ended.\")"
   ]
  },
  {
   "cell_type": "code",
   "execution_count": null,
   "id": "1562b6c2",
   "metadata": {},
   "outputs": [],
   "source": [
    "try:\n",
    "    num = int(input(\"Enter a number: \"))\n",
    "    result = 10 / num\n",
    "except (ZeroDivisionError, ValueError) as e:  # Using a tuple to catch multiple exceptions\n",
    "    print(f\"Division by zero or invalid input : {e}\")"
   ]
  },
  {
   "cell_type": "code",
   "execution_count": 1,
   "id": "368da376",
   "metadata": {},
   "outputs": [
    {
     "name": "stdout",
     "output_type": "stream",
     "text": [
      "Error: Invalid amount: Cannot withdraw a negative amount.\n"
     ]
    }
   ],
   "source": [
    "def withdraw(amount):\n",
    "    if amount < 0:\n",
    "        raise ValueError(\"Invalid amount: Cannot withdraw a negative amount.\")\n",
    "    print(f\"You have Withdrawn {amount}.\")\n",
    "    \n",
    "try:\n",
    "    withdraw(-100)\n",
    "except ValueError as e:\n",
    "    print(f\"Error: {e}\")"
   ]
  },
  {
   "cell_type": "code",
   "execution_count": null,
   "id": "6382615f",
   "metadata": {},
   "outputs": [
    {
     "name": "stdout",
     "output_type": "stream",
     "text": [
      "\n",
      "------ Safe Calculator ------\n",
      "1. Add\n",
      "2. Subtract\n",
      "3. Multiply\n",
      "4. Divide\n",
      "5. Exit\n",
      "Result: -3.0\n",
      "Invalid choice. Please select a valid operation.\n",
      "\n",
      "------ Safe Calculator ------\n",
      "1. Add\n",
      "2. Subtract\n",
      "3. Multiply\n",
      "4. Divide\n",
      "5. Exit\n",
      "Exiting the calculator. Goodbye!\n"
     ]
    },
    {
     "ename": "",
     "evalue": "",
     "output_type": "error",
     "traceback": [
      "\u001b[1;31mThe Kernel crashed while executing code in the current cell or a previous cell. \n",
      "\u001b[1;31mPlease review the code in the cell(s) to identify a possible cause of the failure. \n",
      "\u001b[1;31mClick <a href='https://aka.ms/vscodeJupyterKernelCrash'>here</a> for more info. \n",
      "\u001b[1;31mView Jupyter <a href='command:jupyter.viewOutput'>log</a> for further details."
     ]
    }
   ],
   "source": [
    "# Safe calculator\n",
    "\n",
    "# Step 1: Define calculator functions\n",
    "def add(x, y):\n",
    "    return x + y\n",
    "\n",
    "def subtract(x, y):\n",
    "    return x - y\n",
    "\n",
    "def multiply(x, y):\n",
    "    return x * y\n",
    "\n",
    "def divide(x, y):\n",
    "    if y == 0:\n",
    "        raise ZeroDivisionError(\"Cannot divide by zero.\")\n",
    "    return x / y\n",
    "\n",
    "# Step 2: Display menu\n",
    "def show_menu():\n",
    "    print(\"\\n------ Safe Calculator ------\")\n",
    "    print(\"1. Add\")\n",
    "    print(\"2. Subtract\")\n",
    "    print(\"3. Multiply\")\n",
    "    print(\"4. Divide\")\n",
    "    print(\"5. Exit\")\n",
    "    \n",
    "# Step 3: Main Program\n",
    "while True:\n",
    "    show_menu()\n",
    "    choice = input(\"Choose an operation (1-5): \")\n",
    "    \n",
    "    if choice == '5':\n",
    "        print(\"Exiting the calculator. Goodbye!\")\n",
    "        break\n",
    "    \n",
    "    try:\n",
    "        num1 = float(input(\"Enter first number: \"))\n",
    "        num2 = float(input(\"Enter second number: \"))\n",
    "        \n",
    "        if choice == '1':\n",
    "            print(f\"Result: {add(num1, num2)}\")\n",
    "        elif choice == '2':\n",
    "            print(f\"Result: {subtract(num1, num2)}\")\n",
    "        elif choice == '3':\n",
    "            print(f\"Result: {multiply(num1, num2)}\")\n",
    "        elif choice == '4':\n",
    "            print(f\"Result: {divide(num1, num2)}\")\n",
    "        else:\n",
    "            raise ValueError(\"Invalid choice. Please select a valid operation.\")\n",
    "    except ValueError as e:\n",
    "        print(f\"Invalid input: {e}\")\n",
    "    except ZeroDivisionError as e:\n",
    "        print(f\"Error: {e}\")\n",
    "    else:\n",
    "        print(\"Invalid choice. Please select a valid operation.\")"
   ]
  },
  {
   "cell_type": "code",
   "execution_count": null,
   "id": "f825d478",
   "metadata": {},
   "outputs": [],
   "source": []
  }
 ],
 "metadata": {
  "kernelspec": {
   "display_name": "Python 3",
   "language": "python",
   "name": "python3"
  },
  "language_info": {
   "codemirror_mode": {
    "name": "ipython",
    "version": 3
   },
   "file_extension": ".py",
   "mimetype": "text/x-python",
   "name": "python",
   "nbconvert_exporter": "python",
   "pygments_lexer": "ipython3",
   "version": "3.11.8"
  }
 },
 "nbformat": 4,
 "nbformat_minor": 5
}
