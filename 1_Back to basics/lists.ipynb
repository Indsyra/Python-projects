{
 "cells": [
  {
   "cell_type": "code",
   "execution_count": 1,
   "id": "ce03cfdb",
   "metadata": {},
   "outputs": [
    {
     "name": "stdout",
     "output_type": "stream",
     "text": [
      "['Milk', 'Eggs', 'Bread']\n"
     ]
    }
   ],
   "source": [
    "# What are Lists: collection of elements. ordered, mutable.\n",
    "\n",
    "shopping_list = [\"Milk\", \"Eggs\", \"Bread\"]\n",
    "print(shopping_list)"
   ]
  },
  {
   "cell_type": "code",
   "execution_count": 3,
   "id": "b28f0abd",
   "metadata": {},
   "outputs": [
    {
     "name": "stdout",
     "output_type": "stream",
     "text": [
      "Bread\n",
      "Milk\n",
      "Eggs\n"
     ]
    }
   ],
   "source": [
    "# List Operations : Adding, Removing and accessing items\n",
    "# Access item\n",
    "print(shopping_list[2])\n",
    "print(shopping_list[0])\n",
    "print(shopping_list[1])"
   ]
  },
  {
   "cell_type": "code",
   "execution_count": 4,
   "id": "18b55be1",
   "metadata": {},
   "outputs": [
    {
     "name": "stdout",
     "output_type": "stream",
     "text": [
      "['Milk', 'Eggs', 'Bread', 'Butter']\n"
     ]
    }
   ],
   "source": [
    "# Add to a list: Append (add an item to the end) + Insert (add an item to a specific position)\n",
    "\n",
    "shopping_list.append(\"Butter\")\n",
    "print(shopping_list)"
   ]
  },
  {
   "cell_type": "code",
   "execution_count": 5,
   "id": "32509d66",
   "metadata": {},
   "outputs": [],
   "source": [
    "shopping_list.insert(1, \"Juice\")"
   ]
  },
  {
   "cell_type": "code",
   "execution_count": 6,
   "id": "c201d586",
   "metadata": {},
   "outputs": [
    {
     "name": "stdout",
     "output_type": "stream",
     "text": [
      "['Milk', 'Juice', 'Eggs', 'Bread', 'Butter']\n"
     ]
    }
   ],
   "source": [
    "print(shopping_list)"
   ]
  },
  {
   "cell_type": "code",
   "execution_count": 7,
   "id": "fdd6d3e5",
   "metadata": {},
   "outputs": [
    {
     "name": "stdout",
     "output_type": "stream",
     "text": [
      "['Milk', 'Juice', 'Eggs', 'Butter']\n"
     ]
    }
   ],
   "source": [
    "# Remove item in a list\n",
    "shopping_list.remove(\"Bread\")\n",
    "print(shopping_list)"
   ]
  },
  {
   "cell_type": "code",
   "execution_count": 8,
   "id": "948c0076",
   "metadata": {},
   "outputs": [
    {
     "name": "stdout",
     "output_type": "stream",
     "text": [
      "['Milk', 'Juice', 'Eggs']\n"
     ]
    }
   ],
   "source": [
    "# Pop without argument, remove the last element\n",
    "shopping_list.pop()\n",
    "print(shopping_list)"
   ]
  },
  {
   "cell_type": "code",
   "execution_count": 9,
   "id": "e0bf5524",
   "metadata": {},
   "outputs": [
    {
     "name": "stdout",
     "output_type": "stream",
     "text": [
      "['Juice', 'Eggs']\n"
     ]
    }
   ],
   "source": [
    "# Pop with index argument remove the element at the specified index\n",
    "shopping_list.pop(0)\n",
    "print(shopping_list)"
   ]
  },
  {
   "cell_type": "code",
   "execution_count": 10,
   "id": "63fd4ee6",
   "metadata": {},
   "outputs": [
    {
     "name": "stdout",
     "output_type": "stream",
     "text": [
      "- Milk\n",
      "- Juice\n",
      "- Eggs\n",
      "- Bread\n",
      "- Butter\n"
     ]
    }
   ],
   "source": [
    "shopping_list = [\"Milk\", \"Eggs\", \"Bread\"]\n",
    "shopping_list.append(\"Butter\")\n",
    "shopping_list.insert(1, \"Juice\")\n",
    "\n",
    "# Loop through a list\n",
    "\n",
    "for item in shopping_list:\n",
    "    print(f\"- {item}\")"
   ]
  },
  {
   "cell_type": "code",
   "execution_count": 11,
   "id": "a1c61954",
   "metadata": {},
   "outputs": [
    {
     "name": "stdout",
     "output_type": "stream",
     "text": [
      "1. Milk\n",
      "2. Juice\n",
      "3. Eggs\n",
      "4. Bread\n",
      "5. Butter\n"
     ]
    }
   ],
   "source": [
    "# Using enumerate\n",
    "for index, item in enumerate(shopping_list):\n",
    "    print(f\"{index + 1}. {item}\")"
   ]
  },
  {
   "cell_type": "code",
   "execution_count": 12,
   "id": "5df818a9",
   "metadata": {},
   "outputs": [
    {
     "name": "stdout",
     "output_type": "stream",
     "text": [
      "['Milk', 'Juice', 'Eggs', 'Bread', 'Butter']\n",
      "['Bread', 'Butter', 'Eggs', 'Juice', 'Milk']\n"
     ]
    }
   ],
   "source": [
    "# List methods (append, insert, remove, insert, sort, reverse, clear)\n",
    "shopping_list = [\"Milk\", \"Eggs\", \"Bread\"]\n",
    "shopping_list.append(\"Butter\")\n",
    "shopping_list.insert(1, \"Juice\")\n",
    "print(shopping_list)\n",
    "\n",
    "# Sort\n",
    "shopping_list.sort()\n",
    "\n",
    "print(shopping_list)"
   ]
  },
  {
   "cell_type": "code",
   "execution_count": 13,
   "id": "20408415",
   "metadata": {},
   "outputs": [
    {
     "name": "stdout",
     "output_type": "stream",
     "text": [
      "['Milk', 'Juice', 'Eggs', 'Bread', 'Butter']\n",
      "['Butter', 'Bread', 'Eggs', 'Juice', 'Milk']\n"
     ]
    }
   ],
   "source": [
    "shopping_list = [\"Milk\", \"Eggs\", \"Bread\"]\n",
    "shopping_list.append(\"Butter\")\n",
    "shopping_list.insert(1, \"Juice\")\n",
    "print(shopping_list)\n",
    "\n",
    "# Reverse\n",
    "shopping_list.reverse()\n",
    "\n",
    "print(shopping_list)"
   ]
  },
  {
   "cell_type": "code",
   "execution_count": 14,
   "id": "a89b95ac",
   "metadata": {},
   "outputs": [
    {
     "name": "stdout",
     "output_type": "stream",
     "text": [
      "['Milk', 'Juice', 'Eggs', 'Bread', 'Butter']\n",
      "[]\n"
     ]
    }
   ],
   "source": [
    "shopping_list = [\"Milk\", \"Eggs\", \"Bread\"]\n",
    "shopping_list.append(\"Butter\")\n",
    "shopping_list.insert(1, \"Juice\")\n",
    "print(shopping_list)\n",
    "\n",
    "# Clear\n",
    "shopping_list.clear()\n",
    "\n",
    "print(shopping_list)"
   ]
  },
  {
   "cell_type": "code",
   "execution_count": 23,
   "id": "0ccc372b",
   "metadata": {},
   "outputs": [
    {
     "name": "stdout",
     "output_type": "stream",
     "text": [
      "\n",
      "--- Shopping List Menu ---\n",
      "1. View the shopping list\n",
      "2. Add an item\n",
      "3. Remove an item\n",
      "4. Update an item\n",
      "5. Clear list\n",
      "6. Exit\n",
      "Flour has been added to the shopping list.\n",
      "\n",
      "--- Shopping List Menu ---\n",
      "1. View the shopping list\n",
      "2. Add an item\n",
      "3. Remove an item\n",
      "4. Update an item\n",
      "5. Clear list\n",
      "6. Exit\n",
      "Sugar has been added to the shopping list.\n",
      "\n",
      "--- Shopping List Menu ---\n",
      "1. View the shopping list\n",
      "2. Add an item\n",
      "3. Remove an item\n",
      "4. Update an item\n",
      "5. Clear list\n",
      "6. Exit\n",
      "Eggs has been added to the shopping list.\n",
      "\n",
      "--- Shopping List Menu ---\n",
      "1. View the shopping list\n",
      "2. Add an item\n",
      "3. Remove an item\n",
      "4. Update an item\n",
      "5. Clear list\n",
      "6. Exit\n",
      "1. Flour\n",
      "2. Sugar\n",
      "3. Eggs\n",
      "Eggs has been changed into Farm Eggs.\n",
      "\n",
      "--- Shopping List Menu ---\n",
      "1. View the shopping list\n",
      "2. Add an item\n",
      "3. Remove an item\n",
      "4. Update an item\n",
      "5. Clear list\n",
      "6. Exit\n",
      "\n",
      "--- Shopping List ---\n",
      "1. Flour\n",
      "2. Sugar\n",
      "3. Farm Eggs\n",
      "\n",
      "--- Shopping List Menu ---\n",
      "1. View the shopping list\n",
      "2. Add an item\n",
      "3. Remove an item\n",
      "4. Update an item\n",
      "5. Clear list\n",
      "6. Exit\n",
      "Goodbye! Happy Shopping!\n"
     ]
    }
   ],
   "source": [
    "# Shopping List App\n",
    "# Bonus challenge : Add a feature to update an item + Save the list in a file\n",
    "\n",
    "shopping_list_file = './assets/shopping_list.txt'\n",
    "\n",
    "# Step 2: Define the main menu\n",
    "def show_menu():\n",
    "    print(\"\\n--- Shopping List Menu ---\")\n",
    "    print(\"1. View the shopping list\")\n",
    "    print(\"2. Add an item\")\n",
    "    print(\"3. Remove an item\")\n",
    "    print(\"4. Update an item\")\n",
    "    print(\"5. Clear list\")\n",
    "    print(\"6. Exit\")\n",
    "\n",
    "# Step 3: Main Program Loop\n",
    "while True:\n",
    "    # Step 1: Initialize an empty shopping list\n",
    "    try:\n",
    "        with open(shopping_list_file, 'r') as file:\n",
    "            content = file.read()\n",
    "            shopping_list = content.splitlines()\n",
    "    except Exception as e:\n",
    "        shopping_list = []\n",
    "\n",
    "    show_menu()\n",
    "    choice = input(\"Enter your choice (1-6): \")\n",
    "\n",
    "    if choice == \"1\":\n",
    "        print(\"\\n--- Shopping List ---\")\n",
    "        if not shopping_list:\n",
    "            print(\"Your shopping list is empty.\")\n",
    "        else:\n",
    "            for index, item in enumerate(shopping_list):\n",
    "                print(f\"{index + 1}. {item}\")\n",
    "    elif choice == \"2\":\n",
    "        item = input(\"Enter the item to add:\")\n",
    "        shopping_list.append(item)\n",
    "        print(f\"{item} has been added to the shopping list.\")\n",
    "    elif choice == \"3\":\n",
    "        item = input(\"Enter the item to remove: \")\n",
    "        if item in shopping_list:\n",
    "            shopping_list.remove(item)\n",
    "            print(f\"{item} has been removed from the shopping list.\")\n",
    "        else:\n",
    "            print(f\"{item} is not in the shopping list.\")\n",
    "    elif choice == \"4\":\n",
    "        if not shopping_list:\n",
    "            print(\"No item to update\")\n",
    "        else:\n",
    "            for index, item in enumerate(shopping_list):\n",
    "                print(f\"{index + 1}. {item}\")\n",
    "            item = int(input(\"Enter the index of the item to update: \"))\n",
    "            item_old = shopping_list[item - 1]\n",
    "            item_updated = input(f\"Enter the update for {item_old}: \")\n",
    "            shopping_list[item - 1] = item_updated\n",
    "            print(f\"{item_old} has been changed into {item_updated}.\")\n",
    "    elif choice == \"5\":\n",
    "        shopping_list.clear()\n",
    "        with open(shopping_list_file, 'w') as file:\n",
    "            pass\n",
    "        print(\"The shopping list has been cleared.\")\n",
    "    elif choice == \"6\":\n",
    "        print(\"Goodbye! Happy Shopping!\")\n",
    "        break\n",
    "    else:\n",
    "        print(\"Invalid choice. Please try again.\")\n",
    "\n",
    "    # Save the shopping list\n",
    "    if shopping_list:\n",
    "        content = \"\"\n",
    "        for item in shopping_list:\n",
    "            content += item + '\\n'\n",
    "        with open(shopping_list_file, 'w') as file:\n",
    "            file.write(content)"
   ]
  },
  {
   "cell_type": "code",
   "execution_count": null,
   "id": "e18c97e5",
   "metadata": {},
   "outputs": [],
   "source": []
  }
 ],
 "metadata": {
  "kernelspec": {
   "display_name": "Python 3",
   "language": "python",
   "name": "python3"
  },
  "language_info": {
   "codemirror_mode": {
    "name": "ipython",
    "version": 3
   },
   "file_extension": ".py",
   "mimetype": "text/x-python",
   "name": "python",
   "nbconvert_exporter": "python",
   "pygments_lexer": "ipython3",
   "version": "3.11.8"
  }
 },
 "nbformat": 4,
 "nbformat_minor": 5
}
