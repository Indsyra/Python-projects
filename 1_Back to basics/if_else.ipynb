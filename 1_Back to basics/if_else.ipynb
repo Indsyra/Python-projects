{
 "cells": [
  {
   "cell_type": "code",
   "execution_count": null,
   "id": "fa4a33a5",
   "metadata": {},
   "outputs": [],
   "source": [
    "# What are if else : Let your program make decisions based on conditions\n",
    "if condition:\n",
    "    # Do something if the condition is True\n",
    "else:\n",
    "    # Do something is the condition is False"
   ]
  },
  {
   "cell_type": "code",
   "execution_count": 4,
   "id": "b36c3728",
   "metadata": {},
   "outputs": [
    {
     "name": "stdout",
     "output_type": "stream",
     "text": [
      "The number is equal to 5\n"
     ]
    }
   ],
   "source": [
    "number = 5\n",
    "\n",
    "if number > 5:\n",
    "    print(\"The number is greater than 5.\")\n",
    "elif number == 5:\n",
    "    print(\"The number is equal to 5\")\n",
    "else:\n",
    "    print(\"The number is less than 5\")"
   ]
  },
  {
   "cell_type": "code",
   "execution_count": null,
   "id": "704d0632",
   "metadata": {},
   "outputs": [],
   "source": [
    "# Comparison operators\n",
    "# != not equal to\n",
    "# == equal to\n",
    "# <= less than or equal to\n",
    "# >= greater than or equal to\n",
    "# < less than\n",
    "# > greater than\n"
   ]
  },
  {
   "cell_type": "code",
   "execution_count": 8,
   "id": "3b1cb2c5",
   "metadata": {},
   "outputs": [
    {
     "name": "stdout",
     "output_type": "stream",
     "text": [
      "At least one condition is false.\n"
     ]
    }
   ],
   "source": [
    "# Logical operators : and, or\n",
    "a = 2\n",
    "b = 20\n",
    "\n",
    "if a > 5 and b < 15:\n",
    "    print(\"Both conditions are true.\")\n",
    "else:\n",
    "    print(\"At least one condition is false.\")"
   ]
  },
  {
   "cell_type": "code",
   "execution_count": 9,
   "id": "b7083b18",
   "metadata": {},
   "outputs": [
    {
     "name": "stdout",
     "output_type": "stream",
     "text": [
      "Both conditions are false.\n"
     ]
    }
   ],
   "source": [
    "if a > 5 or b < 15:\n",
    "    print(\"Either one of them is true.\")\n",
    "else:\n",
    "    print(\"Both conditions are false.\")"
   ]
  },
  {
   "cell_type": "code",
   "execution_count": null,
   "id": "66587a6e",
   "metadata": {},
   "outputs": [],
   "source": [
    "# Nested if else statements\n"
   ]
  },
  {
   "cell_type": "code",
   "execution_count": 15,
   "id": "27764662",
   "metadata": {},
   "outputs": [
    {
     "name": "stdout",
     "output_type": "stream",
     "text": [
      "\n",
      "--- Number comparison tool ---\n",
      "1. Number comparison\n",
      "2. Exit\n",
      "yes\n",
      "\n",
      "---- Comparison results ----\n",
      "78.0 is greater than -2.0 and -8.0. -2.0 is greater than -8.0\n",
      "Both numbers are non-zero with at least one is either positive or negative.\n",
      "\n",
      "--- Number comparison tool ---\n",
      "1. Number comparison\n",
      "2. Exit\n",
      "Thanks for using Number comparison tool! Goodbye!\n"
     ]
    }
   ],
   "source": [
    "# Number comparison tool\n",
    "\n",
    "# Bonus: run the program without restarting\n",
    "\n",
    "while True:\n",
    "    print(\"\\n--- Number comparison tool ---\")\n",
    "    print(\"1. Number comparison\")\n",
    "    print(\"2. Exit\")\n",
    "\n",
    "    selection = input(\"Please enter your choice (1-2): \")\n",
    "    if selection == '1':\n",
    "        # Step 1: Get user input for two numbers\n",
    "        num1 = float(input(\"Enter the first number: \"))\n",
    "        num2 = float(input(\"Enter the second number: \"))\n",
    "        num3 = None\n",
    "        choice = input(\"Do you want to add a third number (yes/no)? \").lower()\n",
    "        print(choice)\n",
    "        if choice == \"yes\":\n",
    "            num3 = float(input(\"Enter the third number: \"))\n",
    "\n",
    "        # Step 2: Compare the numbers\n",
    "        print(\"\\n---- Comparison results ----\")\n",
    "        if num3 is not None:\n",
    "            if num1 == num2 and num2 == num3:\n",
    "                print(f\"Both number are equal: {num1}\")\n",
    "            elif num1 > num2 and num2 > num3:\n",
    "                print(f\"{num1} is greater than {num2} and {num3}. {num2} is greater than {num3}\")\n",
    "            elif num2 < num3 and num3 < num1:\n",
    "                print(f\"{num1} is greater than {num2} and {num3}. {num3} is greater than {num2}\")\n",
    "            elif num1 < num2 and num2 < num3:\n",
    "                print(f\"{num3} is greater than {num1} and {num2}. {num2} is greater than {num1}\")\n",
    "            elif num2 < num1 and num1 < num3:\n",
    "                print(f\"{num3} is greater than {num1} and {num2}. {num1} is greater than {num2}\")\n",
    "            elif num3 < num1 and num1 < num2:\n",
    "                print(f\"{num2} is greater than {num1} and {num3}. {num1} is greater than {num3}\")\n",
    "            elif num1 < num3 and num3 < num2:\n",
    "                print(f\"{num2} is greater than {num1} and {num3}. {num3} is greater than {num1}\")\n",
    "            else:\n",
    "                print(f\"At least one number is equal to another. Num1: {num1}, Num2: {num2}, Num3: {num3}\")\n",
    "\n",
    "            # Bonus: Check if numbers are positive, negative and zero\n",
    "            if num1 > 0 and num2 > 0 and num3 > 0:\n",
    "                print(\"All the numbers are positive\")\n",
    "            elif num1 < 0 and num2 < 0 and num3 < 0:\n",
    "                print(\"All the numbers are negative\")\n",
    "            elif num1 == 0 or num2 == 0 or num3 == 0:\n",
    "                print(\"At least one number is zero\")\n",
    "            else:\n",
    "                print(\"Both numbers are non-zero with at least one is either positive or negative.\")\n",
    "        else:\n",
    "            if num1 == num2:\n",
    "                print(f\"Both number are equal: {num1}\")\n",
    "            elif num1 > num2:\n",
    "                print(f\"{num1} is greater than {num2}\")\n",
    "            else:\n",
    "                print(f\"{num1} is lower than {num2}\")\n",
    "\n",
    "            # Bonus: Check if numbers are positive, negative and zero\n",
    "            if num1 > 0 and num2 > 0:\n",
    "                print(\"All the numbers are positive\")\n",
    "            elif num1 < 0 and num2 < 0:\n",
    "                print(\"All the numbers are negative\")\n",
    "            elif num1 == 0 or num2 == 0:\n",
    "                print(\"At least one number is zero\")\n",
    "            else:\n",
    "                print(\"Both numbers are non-zero with at one positive and the other negative\")\n",
    "    elif selection == '2':\n",
    "        print(\"Thanks for using Number comparison tool! Goodbye!\")\n",
    "        break\n",
    "    else:\n",
    "        print(\"Invalid input. Please try again.\")"
   ]
  },
  {
   "cell_type": "code",
   "execution_count": null,
   "id": "e5d35072",
   "metadata": {},
   "outputs": [],
   "source": []
  },
  {
   "cell_type": "code",
   "execution_count": null,
   "id": "247ff286",
   "metadata": {},
   "outputs": [],
   "source": []
  }
 ],
 "metadata": {
  "kernelspec": {
   "display_name": "Python 3",
   "language": "python",
   "name": "python3"
  },
  "language_info": {
   "codemirror_mode": {
    "name": "ipython",
    "version": 3
   },
   "file_extension": ".py",
   "mimetype": "text/x-python",
   "name": "python",
   "nbconvert_exporter": "python",
   "pygments_lexer": "ipython3",
   "version": "3.11.8"
  }
 },
 "nbformat": 4,
 "nbformat_minor": 5
}
