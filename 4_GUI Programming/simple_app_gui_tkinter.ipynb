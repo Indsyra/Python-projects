{
 "cells": [
  {
   "cell_type": "code",
   "execution_count": null,
   "id": "9ceee0cc",
   "metadata": {},
   "outputs": [],
   "source": [
    "#What is TKinter ?\n",
    "# Python standard GUI Library to build\n",
    "# pip install tk"
   ]
  },
  {
   "cell_type": "code",
   "execution_count": 1,
   "id": "f5e1de98",
   "metadata": {},
   "outputs": [],
   "source": [
    "# Create a Basic Tkinter Window\n",
    "import tkinter as tk\n",
    "\n",
    "# Create the main window\n",
    "root = tk.Tk()\n",
    "root.title(\"My first GUI App\") # Set the window title\n",
    "root.geometry(\"300x200\") # Set the window size\n",
    "\n",
    "# Start the GUI event loop\n",
    "root.mainloop()"
   ]
  },
  {
   "cell_type": "code",
   "execution_count": 3,
   "id": "1fcb041c",
   "metadata": {},
   "outputs": [],
   "source": [
    "# Adding Widgets\n",
    "import tkinter as tk\n",
    "\n",
    "root = tk.Tk()\n",
    "root.title(\"Simple GUI Example\")\n",
    "root.geometry(\"300x200\")\n",
    "\n",
    "# Add Label\n",
    "label = tk.Label(root, text=\"Hello, Tkinter!\", font=(\"Arial\", 14))\n",
    "label.pack(pady=10) # Add a label to window which automatically arrange vertical padding (y) in the window\n",
    "\n",
    "# Add entry\n",
    "entry = tk.Entry(root, width=20)\n",
    "entry.pack(pady=10)\n",
    "\n",
    "# Add Button\n",
    "def on_click():\n",
    "    text = entry.get()\n",
    "    label.config(text=f\"Hello, {text}!\")\n",
    "\n",
    "button = tk.Button(root, text=\"Click Me\", command=on_click)\n",
    "button.pack(pady=10)\n",
    "\n",
    "root.mainloop()"
   ]
  },
  {
   "cell_type": "code",
   "execution_count": 4,
   "id": "27d6c737",
   "metadata": {},
   "outputs": [],
   "source": [
    "# Handling User Events\n",
    "import tkinter as tk\n",
    "\n",
    "root = tk.Tk()\n",
    "root.title(\"Event Handling Example\")\n",
    "root.geometry(\"300x200\")\n",
    "\n",
    "# Add Widgets\n",
    "label = tk.Label(root, text=\"Enter your name: \")\n",
    "label.pack()\n",
    "\n",
    "entry = tk.Entry(root)\n",
    "entry.pack()\n",
    "\n",
    "def greet():\n",
    "    name = entry.get()\n",
    "    label.config(text=f\"Hello, {name}!\")\n",
    "\n",
    "button = tk.Button(root, text=\"Greet\", command=greet)\n",
    "button.pack()\n",
    "\n",
    "root.mainloop()"
   ]
  }
 ],
 "metadata": {
  "kernelspec": {
   "display_name": "Python 3",
   "language": "python",
   "name": "python3"
  },
  "language_info": {
   "codemirror_mode": {
    "name": "ipython",
    "version": 3
   },
   "file_extension": ".py",
   "mimetype": "text/x-python",
   "name": "python",
   "nbconvert_exporter": "python",
   "pygments_lexer": "ipython3",
   "version": "3.11.8"
  }
 },
 "nbformat": 4,
 "nbformat_minor": 5
}
