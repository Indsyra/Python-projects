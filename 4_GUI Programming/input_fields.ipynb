{
 "cells": [
  {
   "cell_type": "code",
   "execution_count": 1,
   "id": "54cad8cf",
   "metadata": {},
   "outputs": [
    {
     "name": "stdout",
     "output_type": "stream",
     "text": [
      "User Input:  Indira\n",
      "User Input:  Indira\n",
      "User Input:  Indira\n",
      "User Input:  Indira\n"
     ]
    }
   ],
   "source": [
    "# Input fields in Tkinter: single line inputs (number, names, other text inputs)\n",
    "import tkinter as tk\n",
    "\n",
    "# Main window\n",
    "root = tk.Tk()\n",
    "root.title(\"Input Field Example\")\n",
    "root.geometry(\"300x200\")\n",
    "\n",
    "# Input Field\n",
    "entry = tk.Entry(root, width=25)\n",
    "entry.pack(pady=10)\n",
    "\n",
    "# Button to display input\n",
    "def display_input():\n",
    "    user_input = entry.get()\n",
    "    print(\"User Input: \", user_input)\n",
    "\n",
    "button = tk.Button(root, text=\"Submit\", command=display_input)\n",
    "button.pack(pady=10)\n",
    "\n",
    "# Run the application\n",
    "root.mainloop()"
   ]
  },
  {
   "cell_type": "code",
   "execution_count": 2,
   "id": "ef9a7407",
   "metadata": {},
   "outputs": [
    {
     "name": "stdout",
     "output_type": "stream",
     "text": [
      "Invalid input. Please enter a number\n",
      "Valid Input:  1054.0\n"
     ]
    }
   ],
   "source": [
    "# Validate user input\n",
    "import tkinter as tk\n",
    "\n",
    "# Main window\n",
    "root = tk.Tk()\n",
    "root.title(\"Validate Input Example\")\n",
    "root.geometry(\"300x200\")\n",
    "\n",
    "# Input Field\n",
    "entry = tk.Entry(root)\n",
    "entry.pack(pady=10)\n",
    "\n",
    "# Validate input\n",
    "def validate_input():\n",
    "    try:\n",
    "        value = float(entry.get())\n",
    "        print(\"Valid Input: \", value)\n",
    "    except ValueError:\n",
    "        print(\"Invalid input. Please enter a number\")\n",
    "\n",
    "button = tk.Button(root, text=\"Validate\", command=validate_input)\n",
    "button.pack(pady=10)\n",
    "\n",
    "# Run the application\n",
    "root.mainloop()"
   ]
  },
  {
   "cell_type": "code",
   "execution_count": 3,
   "id": "f86d5b4c",
   "metadata": {},
   "outputs": [],
   "source": [
    "# Display dynamic results\n",
    "import tkinter as tk\n",
    "\n",
    "# Main window\n",
    "root = tk.Tk()\n",
    "root.title(\"Dynamic Result Display\")\n",
    "root.geometry(\"300x200\")\n",
    "\n",
    "# Input Field\n",
    "entry = tk.Entry(root)\n",
    "entry.pack(pady=10)\n",
    "\n",
    "# Result Label\n",
    "result_label = tk.Label(root, text=\"Result be displayed here.\")\n",
    "result_label.pack(pady=10)\n",
    "\n",
    "# Update Label\n",
    "def update_label():\n",
    "    text = entry.get()\n",
    "    result_label.config(text=f\"You entered: {text}\")\n",
    "\n",
    "button = tk.Button(root, text=\"Update\", command=update_label)\n",
    "button.pack(pady=10)\n",
    "\n",
    "# Run the application\n",
    "root.mainloop()"
   ]
  },
  {
   "cell_type": "code",
   "execution_count": null,
   "id": "7c8774c4",
   "metadata": {},
   "outputs": [],
   "source": [
    "# Entry Widgets with Labels and Buttons"
   ]
  }
 ],
 "metadata": {
  "kernelspec": {
   "display_name": "Python 3",
   "language": "python",
   "name": "python3"
  },
  "language_info": {
   "codemirror_mode": {
    "name": "ipython",
    "version": 3
   },
   "file_extension": ".py",
   "mimetype": "text/x-python",
   "name": "python",
   "nbconvert_exporter": "python",
   "pygments_lexer": "ipython3",
   "version": "3.11.8"
  }
 },
 "nbformat": 4,
 "nbformat_minor": 5
}
