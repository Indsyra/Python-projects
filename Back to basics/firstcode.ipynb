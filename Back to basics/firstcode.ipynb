{
 "cells": [
  {
   "cell_type": "code",
   "execution_count": 1,
   "id": "09203f42",
   "metadata": {},
   "outputs": [
    {
     "name": "stdout",
     "output_type": "stream",
     "text": [
      "Hello World!\n"
     ]
    }
   ],
   "source": [
    "print(\"Hello World!\")"
   ]
  },
  {
   "cell_type": "code",
   "execution_count": 5,
   "id": "ebbcbb05",
   "metadata": {},
   "outputs": [
    {
     "name": "stdout",
     "output_type": "stream",
     "text": [
      "Name: Indira\n",
      "Age: 14\n",
      "Height: 5.8\n",
      "Is Gamer? False\n"
     ]
    }
   ],
   "source": [
    "# Variables : virtual boxes\n",
    "name = \"Indira\" #String\n",
    "age = 14 #Integer\n",
    "height = 5.8 #Float\n",
    "is_gamer = False #Boolean\n",
    "\n",
    "print(\"Name:\", name)\n",
    "print(\"Age:\", age)\n",
    "print(\"Height:\", height)\n",
    "print(\"Is Gamer?\", is_gamer)"
   ]
  },
  {
   "cell_type": "code",
   "execution_count": 8,
   "id": "06acfaff",
   "metadata": {},
   "outputs": [
    {
     "name": "stdout",
     "output_type": "stream",
     "text": [
      "Welcome, Indira!\n"
     ]
    }
   ],
   "source": [
    "# Talking to the user : input()\n",
    "user_name = input(\"What's your name?\")\n",
    "print(\"Welcome, \" + user_name + \"!\")"
   ]
  },
  {
   "cell_type": "code",
   "execution_count": 10,
   "id": "c662746a",
   "metadata": {},
   "outputs": [
    {
     "name": "stdout",
     "output_type": "stream",
     "text": [
      "13\n",
      "7\n",
      "30\n",
      "0.3\n",
      "3\n",
      "1\n",
      "1000\n"
     ]
    }
   ],
   "source": [
    "x = 3\n",
    "y = 10\n",
    "\n",
    "print(x + y)\n",
    "print(y - x)\n",
    "print(x * y)\n",
    "print(x / y)\n",
    "print(y // x) # Integer division\n",
    "print(y % x) # Gives the remainder of the division\n",
    "print(y ** x) # y to the power of x"
   ]
  },
  {
   "cell_type": "code",
   "execution_count": 12,
   "id": "866fc9dc",
   "metadata": {},
   "outputs": [
    {
     "name": "stdout",
     "output_type": "stream",
     "text": [
      "You are a teenager.\n"
     ]
    }
   ],
   "source": [
    "# Decision Time : If, Elif, Else\n",
    "age = int(input(\"Enter your age:\"))\n",
    "if age >= 18:\n",
    "    print(\"You are an adult.\")\n",
    "elif age >= 13:\n",
    "    print(\"You are a teenager.\")\n",
    "else:\n",
    "    print(\"You are a minor.\")"
   ]
  },
  {
   "cell_type": "code",
   "execution_count": 14,
   "id": "3bc7c6ee",
   "metadata": {},
   "outputs": [
    {
     "name": "stdout",
     "output_type": "stream",
     "text": [
      "Count is: 0\n",
      "Count is: 1\n",
      "Count is: 2\n",
      "Count is: 3\n",
      "Count is: 4\n",
      "Count is: 5\n",
      "Count is: 6\n",
      "Count is: 7\n",
      "Count is: 8\n",
      "Count is: 9\n"
     ]
    }
   ],
   "source": [
    "# Loops: Repeating actions\n",
    "count = 0\n",
    "while count < 10:\n",
    "    print(\"Count is:\", count)\n",
    "    count += 1"
   ]
  },
  {
   "cell_type": "code",
   "execution_count": 15,
   "id": "5c367207",
   "metadata": {},
   "outputs": [
    {
     "name": "stdout",
     "output_type": "stream",
     "text": [
      "Game 1\n",
      "Game 2\n",
      "Game 3\n"
     ]
    }
   ],
   "source": [
    "video_games = [\"Game 1\", \"Game 2\", \"Game 3\"]\n",
    "for game in video_games:\n",
    "    print(game)"
   ]
  },
  {
   "cell_type": "code",
   "execution_count": 16,
   "id": "3feff550",
   "metadata": {},
   "outputs": [
    {
     "name": "stdout",
     "output_type": "stream",
     "text": [
      "Game 1\n"
     ]
    }
   ],
   "source": [
    "# Lists : Keep Track of stuff\n",
    "print(video_games[0])"
   ]
  },
  {
   "cell_type": "code",
   "execution_count": 17,
   "id": "7ed0eb5e",
   "metadata": {},
   "outputs": [
    {
     "name": "stdout",
     "output_type": "stream",
     "text": [
      "['Game 1', 'Game 2', 'Game 3', 'Game 4']\n"
     ]
    }
   ],
   "source": [
    "video_games.append(\"Game 4\")\n",
    "\n",
    "print(video_games)"
   ]
  },
  {
   "cell_type": "code",
   "execution_count": 18,
   "id": "6821b512",
   "metadata": {},
   "outputs": [
    {
     "name": "stdout",
     "output_type": "stream",
     "text": [
      "['Game 1', 'Game 8', 'Game 3', 'Game 4']\n"
     ]
    }
   ],
   "source": [
    "video_games[1] = \"Game 8\"\n",
    "\n",
    "print(video_games)"
   ]
  },
  {
   "cell_type": "code",
   "execution_count": 22,
   "id": "efab20b2",
   "metadata": {},
   "outputs": [
    {
     "name": "stdout",
     "output_type": "stream",
     "text": [
      "Hello Clyde from your very first function\n"
     ]
    }
   ],
   "source": [
    "# Functions : Build your own commands\n",
    "def say_hello(person_name):\n",
    "    print(\"Hello \" + person_name + \" from your very first function\")\n",
    "\n",
    "say_hello(\"Clyde\")"
   ]
  },
  {
   "cell_type": "code",
   "execution_count": 23,
   "id": "13cf91a0",
   "metadata": {},
   "outputs": [
    {
     "name": "stdout",
     "output_type": "stream",
     "text": [
      "Result: 15\n"
     ]
    }
   ],
   "source": [
    "def multiply(a, b):\n",
    "    return a * b\n",
    "\n",
    "result = multiply(3, 5)\n",
    "print(\"Result:\", result)"
   ]
  },
  {
   "cell_type": "code",
   "execution_count": 24,
   "id": "0c9d3045",
   "metadata": {},
   "outputs": [
    {
     "name": "stdout",
     "output_type": "stream",
     "text": [
      "I'm thinking of a number between 1 and 10\n",
      "Too low! Try again.\n",
      "Too high! Try again.\n",
      "Congratulations! You guessed the number!\n"
     ]
    }
   ],
   "source": [
    "# Mini Project: Number guessing game\n",
    "\n",
    "import random\n",
    "\n",
    "secret_number = random.randint(1, 10)\n",
    "attempts = 3\n",
    "\n",
    "print(\"I'm thinking of a number between 1 and 10\")\n",
    "while attempts > 0:\n",
    "    guess = int(input(\"Take a Guess: \"))\n",
    "    if guess == secret_number:\n",
    "        print(\"Congratulations! You guessed the number!\")\n",
    "        break\n",
    "    elif guess < secret_number:\n",
    "        print(\"Too low! Try again.\")\n",
    "    else:\n",
    "        print(\"Too high! Try again.\")\n",
    "    attempts -= 1\n",
    "\n",
    "if attempts == 0:\n",
    "    print(\"Sorry, you've run out of attempts. The secret number was:\", secret_number)"
   ]
  },
  {
   "cell_type": "code",
   "execution_count": null,
   "id": "d281ba1a",
   "metadata": {},
   "outputs": [],
   "source": []
  }
 ],
 "metadata": {
  "kernelspec": {
   "display_name": "Python 3",
   "language": "python",
   "name": "python3"
  },
  "language_info": {
   "codemirror_mode": {
    "name": "ipython",
    "version": 3
   },
   "file_extension": ".py",
   "mimetype": "text/x-python",
   "name": "python",
   "nbconvert_exporter": "python",
   "pygments_lexer": "ipython3",
   "version": "3.11.8"
  }
 },
 "nbformat": 4,
 "nbformat_minor": 5
}
