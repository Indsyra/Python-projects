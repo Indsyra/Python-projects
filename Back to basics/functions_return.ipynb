{
 "cells": [
  {
   "cell_type": "code",
   "execution_count": null,
   "id": "cf892d62",
   "metadata": {},
   "outputs": [],
   "source": [
    "def function_name():\n",
    "    # Code\n",
    "    return value"
   ]
  },
  {
   "cell_type": "code",
   "execution_count": 1,
   "id": "84552ee1",
   "metadata": {},
   "outputs": [
    {
     "name": "stdout",
     "output_type": "stream",
     "text": [
      "8\n"
     ]
    }
   ],
   "source": [
    "def add(a, b):\n",
    "    return a + b\n",
    "\n",
    "result = add(5, 3)\n",
    "print(result)"
   ]
  },
  {
   "cell_type": "code",
   "execution_count": null,
   "id": "596ad5a9",
   "metadata": {},
   "outputs": [
    {
     "name": "stdout",
     "output_type": "stream",
     "text": [
      "The area of the rectangle is: 50\n"
     ]
    }
   ],
   "source": [
    "# Functions to perform calculations\n",
    "def rectangle_area(length, width):\n",
    "    return length * width\n",
    "\n",
    "area = rectangle_area(10, 5)\n",
    "print(f\"The area of the rectangle is: {area}\")"
   ]
  },
  {
   "cell_type": "code",
   "execution_count": null,
   "id": "c9bdd50d",
   "metadata": {},
   "outputs": [
    {
     "name": "stdout",
     "output_type": "stream",
     "text": [
      "Addition: 15, Subtraction: 5, Multiplication: 50, Division: 2.0\n"
     ]
    }
   ],
   "source": [
    "# Return multiple values using a tuple\n",
    "\n",
    "# Avoid returning multiple values in a single return statement\n",
    "# Use clear variable names\n",
    "# Ensure the return value matches the function's purpose\n",
    "\n",
    "def math_operation(a,b):\n",
    "    addition = a + b\n",
    "    subtraction = a - b\n",
    "    multiplication = a * b\n",
    "    division = a / b\n",
    "    return addition, subtraction, multiplication, division\n",
    "\n",
    "add, sub, mul, div = math_operation(10, 5)\n",
    "print(f\"Addition: {add}, Subtraction: {sub}, Multiplication: {mul}, Division: {div}\")"
   ]
  },
  {
   "cell_type": "code",
   "execution_count": 4,
   "id": "2342cac9",
   "metadata": {},
   "outputs": [
    {
     "name": "stdout",
     "output_type": "stream",
     "text": [
      "\n",
      "----- Temperature Converter -----\n",
      "1. Celsius to Fahrenheit & Kelvin\n",
      "2. Fahrenheit to Celsius & Kelvin\n",
      "3. Kelvin to Celsius & Fahrenheit\n",
      "4. Exit\n",
      "Invalid choice. Please try again.\n",
      "\n",
      "----- Temperature Converter -----\n",
      "1. Celsius to Fahrenheit & Kelvin\n",
      "2. Fahrenheit to Celsius & Kelvin\n",
      "3. Kelvin to Celsius & Fahrenheit\n",
      "4. Exit\n",
      "Fahrenheit:  37.4°F\n",
      "Kelvin: 276.15K\n",
      "\n",
      "----- Temperature Converter -----\n",
      "1. Celsius to Fahrenheit & Kelvin\n",
      "2. Fahrenheit to Celsius & Kelvin\n",
      "3. Kelvin to Celsius & Fahrenheit\n",
      "4. Exit\n",
      "Celsius: 93.33333333333333°C\n",
      "Kelvin: 366.4833333333333K\n",
      "\n",
      "----- Temperature Converter -----\n",
      "1. Celsius to Fahrenheit & Kelvin\n",
      "2. Fahrenheit to Celsius & Kelvin\n",
      "3. Kelvin to Celsius & Fahrenheit\n",
      "4. Exit\n",
      "Celsius: 26.850000000000023°C\n",
      "Fahrenheit: 80.33000000000004°F\n",
      "\n",
      "----- Temperature Converter -----\n",
      "1. Celsius to Fahrenheit & Kelvin\n",
      "2. Fahrenheit to Celsius & Kelvin\n",
      "3. Kelvin to Celsius & Fahrenheit\n",
      "4. Exit\n",
      "Exiting the program.\n"
     ]
    }
   ],
   "source": [
    "# Temperature converter\n",
    "\n",
    "# Step 1: Define conversion functions\n",
    "def celsius_to_fahrenheit(celsius):\n",
    "    return (celsius * 9/5) + 32\n",
    "\n",
    "def celsius_to_kelvin(celsius):\n",
    "    return celsius + 273.15\n",
    "\n",
    "def fahrenheit_to_celsius(fahrenheit):\n",
    "    return (fahrenheit - 32) * 5/9\n",
    "\n",
    "def fahrenheit_to_kelvin(fahrenheit):\n",
    "    return (fahrenheit - 32) * 5/9 + 273.15\n",
    "\n",
    "def kelvin_to_celsius(kelvin):\n",
    "    return kelvin - 273.15\n",
    "\n",
    "def kelvin_to_fahrenheit(kelvin):\n",
    "    return (kelvin - 273.15) * 9/5 + 32\n",
    "\n",
    "# Step 2: Display menu\n",
    "def display_menu():\n",
    "    print(\"\\n----- Temperature Converter -----\")\n",
    "    print(\"1. Celsius to Fahrenheit & Kelvin\")\n",
    "    print(\"2. Fahrenheit to Celsius & Kelvin\")\n",
    "    print(\"3. Kelvin to Celsius & Fahrenheit\")\n",
    "    print(\"4. Exit\")\n",
    "    \n",
    "# Step 3: Main program loop\n",
    "while True:\n",
    "    display_menu()\n",
    "    choice = input(\"Choose an option (1-4): \")\n",
    "    \n",
    "    if choice == '1':\n",
    "        celsius = float(input(\"Enter temperature in Celsius: \"))\n",
    "        print(f\"Fahrenheit:  {celsius_to_fahrenheit(celsius)}°F\")\n",
    "        print(f\"Kelvin: {celsius_to_kelvin(celsius)}K\")\n",
    "        \n",
    "    elif choice == '2':\n",
    "        fahrenheit = float(input(\"Enter temperature in Fahrenheit: \"))\n",
    "        print(f\"Celsius: {fahrenheit_to_celsius(fahrenheit)}°C\")\n",
    "        print(f\"Kelvin: {fahrenheit_to_kelvin(fahrenheit)}K\")\n",
    "        \n",
    "    elif choice == '3':\n",
    "        kelvin = float(input(\"Enter temperature in Kelvin: \"))\n",
    "        print(f\"Celsius: {kelvin_to_celsius(kelvin)}°C\")\n",
    "        print(f\"Fahrenheit: {kelvin_to_fahrenheit(kelvin)}°F\")\n",
    "        \n",
    "    elif choice == '4':\n",
    "        print(\"Exiting the program.\")\n",
    "        break\n",
    "    \n",
    "    else:\n",
    "        print(\"Invalid choice. Please try again.\")\n"
   ]
  },
  {
   "cell_type": "code",
   "execution_count": null,
   "id": "090f4bd7",
   "metadata": {},
   "outputs": [],
   "source": []
  }
 ],
 "metadata": {
  "kernelspec": {
   "display_name": "Python 3",
   "language": "python",
   "name": "python3"
  },
  "language_info": {
   "codemirror_mode": {
    "name": "ipython",
    "version": 3
   },
   "file_extension": ".py",
   "mimetype": "text/x-python",
   "name": "python",
   "nbconvert_exporter": "python",
   "pygments_lexer": "ipython3",
   "version": "3.11.8"
  }
 },
 "nbformat": 4,
 "nbformat_minor": 5
}
