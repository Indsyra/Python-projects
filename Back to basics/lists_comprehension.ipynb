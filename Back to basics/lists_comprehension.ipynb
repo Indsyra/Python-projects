{
 "cells": [
  {
   "cell_type": "code",
   "execution_count": null,
   "id": "68a189cf",
   "metadata": {},
   "outputs": [],
   "source": [
    "#List comprehensions : provide a concise manner to create and manipulate lists\n",
    "\n",
    "[expression for item in iterable if condition]"
   ]
  },
  {
   "cell_type": "code",
   "execution_count": 1,
   "id": "3189d8b6",
   "metadata": {},
   "outputs": [
    {
     "name": "stdout",
     "output_type": "stream",
     "text": [
      "[0, 1, 4, 9, 16, 25, 36, 49, 64, 81]\n"
     ]
    }
   ],
   "source": [
    "# Basic syntax and examples\n",
    "\n",
    "squares = [x**2 for x in range(10)]\n",
    "print(squares)"
   ]
  },
  {
   "cell_type": "code",
   "execution_count": 2,
   "id": "52690752",
   "metadata": {},
   "outputs": [
    {
     "name": "stdout",
     "output_type": "stream",
     "text": [
      "[2, 4, 6, 8, 10]\n"
     ]
    }
   ],
   "source": [
    "numbers = range(1,6)\n",
    "doubled = [x * 2 for x in numbers]\n",
    "print(doubled)"
   ]
  },
  {
   "cell_type": "code",
   "execution_count": 3,
   "id": "9027656a",
   "metadata": {},
   "outputs": [
    {
     "name": "stdout",
     "output_type": "stream",
     "text": [
      "[2, 4, 6]\n"
     ]
    }
   ],
   "source": [
    "# Filtering with list comprehensions\n",
    "\n",
    "numbers = range(1,8)\n",
    "evens = [x for x in numbers if x%2 == 0]\n",
    "print(evens)"
   ]
  },
  {
   "cell_type": "code",
   "execution_count": 6,
   "id": "cc2c6039",
   "metadata": {},
   "outputs": [
    {
     "name": "stdout",
     "output_type": "stream",
     "text": [
      "['Bob', 'Dave']\n"
     ]
    }
   ],
   "source": [
    "names = [\"Alice\", \"Bob\", \"Charlie\", \"Dave\"]\n",
    "short_names = [name for name in names if len(name) < 5]\n",
    "print(short_names)"
   ]
  },
  {
   "cell_type": "code",
   "execution_count": 7,
   "id": "11573484",
   "metadata": {},
   "outputs": [
    {
     "name": "stdout",
     "output_type": "stream",
     "text": [
      "['Odd', 'Even', 'Odd', 'Even', 'Odd', 'Even']\n"
     ]
    }
   ],
   "source": [
    "numbers = range(1,7)\n",
    "labels = [\"Even\" if x%2 == 0 else \"Odd\" for x in numbers]\n",
    "print(labels)"
   ]
  },
  {
   "cell_type": "code",
   "execution_count": 8,
   "id": "2a045d86",
   "metadata": {},
   "outputs": [
    {
     "name": "stdout",
     "output_type": "stream",
     "text": [
      "\n",
      "------ Student Grades ------\n",
      "Student 1: Score = 70, Grade = C\n",
      "Student 2: Score = 30, Grade = F\n",
      "Student 3: Score = 80, Grade = B\n",
      "Student 4: Score = 99, Grade = A\n",
      "Student 5: Score = 100, Grade = A\n",
      "Student 6: Score = 50, Grade = F\n",
      "Student 7: Score = 70, Grade = C\n",
      "\n",
      "------ Passing and Failing Students ------\n",
      "Passing Students: [70, 80, 99, 100, 70]\n",
      "Failing Students: [30, 50]\n"
     ]
    }
   ],
   "source": [
    "# Student Grade Manager\n",
    "\n",
    "# Step 1: Get student scores\n",
    "student_scores = input(\"Enter student scores separated by commas: \")\n",
    "scores = [int(score) for score in student_scores.split(\",\")]\n",
    "\n",
    "# Step 2: Assign Grades using List Comprehension\n",
    "grades = [\n",
    "    \"A\" if score >= 90 else\n",
    "    \"B\" if score >= 80 else\n",
    "    \"C\" if score >= 70 else\n",
    "    \"D\" if score >= 60 else\n",
    "    \"F\"\n",
    "    for score in scores\n",
    "]\n",
    "\n",
    "# Step 3: Filter passing and failing students\n",
    "passing_students = [score for score in scores if score >= 60]\n",
    "failing_students = [score for score in scores if score < 60]\n",
    "\n",
    "# Step 4: Print Results\n",
    "print(\"\\n------ Student Grades ------\")\n",
    "for i, (score, grade) in enumerate(zip(scores, grades), start=1):\n",
    "    print(f\"Student {i}: Score = {score}, Grade = {grade}\")\n",
    "    \n",
    "print(\"\\n------ Passing and Failing Students ------\")\n",
    "print(f\"Passing Students: {passing_students}\")\n",
    "print(f\"Failing Students: {failing_students}\")"
   ]
  },
  {
   "cell_type": "code",
   "execution_count": null,
   "id": "98a809c3",
   "metadata": {},
   "outputs": [],
   "source": []
  }
 ],
 "metadata": {
  "kernelspec": {
   "display_name": "Python 3",
   "language": "python",
   "name": "python3"
  },
  "language_info": {
   "codemirror_mode": {
    "name": "ipython",
    "version": 3
   },
   "file_extension": ".py",
   "mimetype": "text/x-python",
   "name": "python",
   "nbconvert_exporter": "python",
   "pygments_lexer": "ipython3",
   "version": "3.11.8"
  }
 },
 "nbformat": 4,
 "nbformat_minor": 5
}
