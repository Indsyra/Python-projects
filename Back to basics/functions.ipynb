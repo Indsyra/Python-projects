{
 "cells": [
  {
   "cell_type": "code",
   "execution_count": 1,
   "id": "c99207eb",
   "metadata": {},
   "outputs": [],
   "source": [
    "# What are functions ? Functions are usable block of code that perform a specific task. \n",
    "# Repeatability, reusability, rewritability\n",
    "\n",
    "def function_name():\n",
    "    # Code block inside the function\n",
    "    print(\"Hello from the function\")"
   ]
  },
  {
   "cell_type": "code",
   "execution_count": 2,
   "id": "18d923ea",
   "metadata": {},
   "outputs": [
    {
     "name": "stdout",
     "output_type": "stream",
     "text": [
      "Hello from the function\n"
     ]
    }
   ],
   "source": [
    "# Nothing happened with the previous execution.Let's call the function.\n",
    "function_name()"
   ]
  },
  {
   "cell_type": "code",
   "execution_count": 3,
   "id": "e164411a",
   "metadata": {},
   "outputs": [
    {
     "name": "stdout",
     "output_type": "stream",
     "text": [
      "Hello, welcome to Python!\n"
     ]
    }
   ],
   "source": [
    "def greet():\n",
    "    print(\"Hello, welcome to Python!\")\n",
    "\n",
    "greet()"
   ]
  },
  {
   "cell_type": "code",
   "execution_count": null,
   "id": "dfb25276",
   "metadata": {},
   "outputs": [
    {
     "name": "stdout",
     "output_type": "stream",
     "text": [
      "Hello Indira, welcome to Python!\n"
     ]
    }
   ],
   "source": [
    "# Defining and Calling Functions and\n",
    "# Function parameters and arguments\n",
    "def greet_user(name):\n",
    "    print(f\"Hello {name}, welcome to Python!\")\n",
    "\n",
    "greet_user(\"Indira\")"
   ]
  },
  {
   "cell_type": "code",
   "execution_count": 6,
   "id": "e7d2669d",
   "metadata": {},
   "outputs": [
    {
     "name": "stdout",
     "output_type": "stream",
     "text": [
      "The sum is : 2118\n"
     ]
    }
   ],
   "source": [
    "def add(a, b):\n",
    "    print(f\"The sum is : {a + b}\")\n",
    "\n",
    "add(1552,566)"
   ]
  },
  {
   "cell_type": "code",
   "execution_count": 7,
   "id": "1bbd7493",
   "metadata": {},
   "outputs": [
    {
     "name": "stdout",
     "output_type": "stream",
     "text": [
      "The result is: 29604012\n"
     ]
    }
   ],
   "source": [
    "# Return statements\n",
    "def multiply(a, b):\n",
    "    return a * b\n",
    "\n",
    "result = multiply(5262, 5626)\n",
    "print(\"The result is:\", result)"
   ]
  },
  {
   "cell_type": "code",
   "execution_count": 12,
   "id": "a8428adb",
   "metadata": {},
   "outputs": [
    {
     "name": "stdout",
     "output_type": "stream",
     "text": [
      "\n",
      "---- Welcome to the Math Quiz Game! ----\n",
      "You will be presented with math problems, and you need to provide the correct answers.\n",
      "You have 30 seconds! Let's go!\n",
      "\n",
      "Question 1: 4 * 8\n",
      "Wrong! The correct answer is: 32\n",
      "\n",
      "Question 2: 6 * 8\n",
      "Correct!\n",
      "\n",
      "Question 3: 6 * 1\n",
      "Wrong! The correct answer is: 6\n",
      "###### Time's up ! ######\n",
      "\n",
      "---- Game Over! ----\n",
      "Your final score is: 1/3\n",
      "Keep practicing! You can do better next time.\n"
     ]
    }
   ],
   "source": [
    "# Basic Math Quiz Game\n",
    "# Goal : Build a program that asks the user random math questions like addition,\n",
    "# Substraction, multiplication, takes user inputs for answers and tracks the score\n",
    "# and gives feedback\n",
    "# Bonus challenge : Add the division operator, allow the user to choose the number of questions\n",
    "# Add a time limit to answer the questions (Number of question * 10s)\n",
    "\n",
    "import random\n",
    "import time\n",
    "\n",
    "# Step 1: Define the math question function\n",
    "def generate_question():\n",
    "    num1 = random.randint(1, 10)\n",
    "    num2 = random.randint(1, 10)\n",
    "    operator = random.choice(['+', '-', '*', '/'])\n",
    "\n",
    "    if operator == '+':\n",
    "        answer = num1 + num2\n",
    "    elif operator == '-':\n",
    "        answer = num1 - num2\n",
    "    elif operator == '*':\n",
    "        answer = num1 * num2\n",
    "    else:\n",
    "        print(\"This is a division. Please enter the quotient and the remainder.\")\n",
    "        answer = num1 // num2, num1 % num2\n",
    "\n",
    "    return f\"{num1} {operator} {num2}\", answer\n",
    "\n",
    "# Step 2: Main Quiz Game Function\n",
    "def math_quiz():\n",
    "    score = 0\n",
    "\n",
    "    print(\"\\n---- Welcome to the Math Quiz Game! ----\")\n",
    "    print(\"You will be presented with math problems, and you need to provide the correct answers.\")\n",
    "\n",
    "    rounds = int(input(\"Enter the number of rounds you want to play\"))\n",
    "    time_limit = rounds * 10\n",
    "\n",
    "    print(f\"You have {time_limit} seconds! Let's go!\")\n",
    "    start_time = time.time()\n",
    "\n",
    "    for i in range(rounds):\n",
    "        question, correct_answer = generate_question()\n",
    "        print(f\"\\nQuestion {i+1}: {question}\")\n",
    "        \n",
    "\n",
    "        if isinstance(correct_answer, tuple):\n",
    "            user_quotient = int(input(\"Please enter the quotient\"))\n",
    "            user_remainder = int(input(\"Please enter the remainder\"))\n",
    "\n",
    "            if user_quotient == correct_answer[0] and user_remainder == correct_answer[1]:\n",
    "                print(\"Correct!\")\n",
    "                score += 1\n",
    "            else:\n",
    "                print(f\"Wrong! The correct answer is: Quotient = {correct_answer[0]}, Remainder = {correct_answer[1]}\")\n",
    "        else: \n",
    "            user_answer = int(input(\"Your answer: \"))\n",
    "            if user_answer == correct_answer:\n",
    "                print(\"Correct!\")\n",
    "                score += 1\n",
    "            else:\n",
    "                print(f\"Wrong! The correct answer is: {correct_answer}\")\n",
    "\n",
    "        if time.time() - start_time > time_limit:\n",
    "            print(\"###### Time's up ! ######\")\n",
    "            break\n",
    "\n",
    "    print(f\"\\n---- Game Over! ----\")\n",
    "    print(f\"Your final score is: {score}/{rounds}\")\n",
    "\n",
    "    if score == rounds:\n",
    "        print(\"Congratulations! You got all the questions correct.\")\n",
    "    elif score > rounds // 2:\n",
    "        print(\"Good Job! You did well.\")\n",
    "    else:\n",
    "        print(\"Keep practicing! You can do better next time.\")\n",
    "\n",
    "# Step 3: Run the game\n",
    "math_quiz()"
   ]
  },
  {
   "cell_type": "code",
   "execution_count": null,
   "id": "a128cb21",
   "metadata": {},
   "outputs": [],
   "source": []
  }
 ],
 "metadata": {
  "kernelspec": {
   "display_name": "Python 3",
   "language": "python",
   "name": "python3"
  },
  "language_info": {
   "codemirror_mode": {
    "name": "ipython",
    "version": 3
   },
   "file_extension": ".py",
   "mimetype": "text/x-python",
   "name": "python",
   "nbconvert_exporter": "python",
   "pygments_lexer": "ipython3",
   "version": "3.11.8"
  }
 },
 "nbformat": 4,
 "nbformat_minor": 5
}
