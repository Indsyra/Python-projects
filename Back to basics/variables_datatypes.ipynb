{
 "cells": [
  {
   "cell_type": "code",
   "execution_count": null,
   "id": "81fa3b87",
   "metadata": {},
   "outputs": [],
   "source": [
    "# Variables\n",
    "# storing a name in a variable\n",
    "name = \"Indira\"\n",
    "# Convention: Start with small letter and go with camel style : nameOfPerson\n",
    "\n",
    "# Storing an age in a variable\n",
    "age = 42\n"
   ]
  },
  {
   "cell_type": "code",
   "execution_count": 1,
   "id": "659a5547",
   "metadata": {},
   "outputs": [
    {
     "name": "stdout",
     "output_type": "stream",
     "text": [
      "<class 'str'>\n",
      "<class 'int'>\n",
      "<class 'float'>\n",
      "<class 'bool'>\n"
     ]
    }
   ],
   "source": [
    "# Data Types String Integers Floats and booleans\n",
    "# String\n",
    "name = \"Indira\"\n",
    "\n",
    "# Integer\n",
    "age = 42\n",
    "\n",
    "# Float\n",
    "height = 5.8\n",
    "\n",
    "# Boolean\n",
    "is_student = False\n",
    "\n",
    "# Check the type of a variable\n",
    "print(type(name))\n",
    "print(type(age))\n",
    "print(type(height))\n",
    "print(type(is_student))"
   ]
  },
  {
   "cell_type": "code",
   "execution_count": 3,
   "id": "449a5e2f",
   "metadata": {},
   "outputs": [
    {
     "name": "stdout",
     "output_type": "stream",
     "text": [
      "<class 'str'>\n",
      "47\n"
     ]
    },
    {
     "ename": "TypeError",
     "evalue": "can only concatenate str (not \"int\") to str",
     "output_type": "error",
     "traceback": [
      "\u001b[1;31m---------------------------------------------------------------------------\u001b[0m",
      "\u001b[1;31mTypeError\u001b[0m                                 Traceback (most recent call last)",
      "Cell \u001b[1;32mIn[3], line 7\u001b[0m\n\u001b[0;32m      5\u001b[0m \u001b[38;5;28mprint\u001b[39m(\u001b[38;5;28mtype\u001b[39m(age))\n\u001b[0;32m      6\u001b[0m \u001b[38;5;28mprint\u001b[39m(myAge \u001b[38;5;241m+\u001b[39m \u001b[38;5;241m5\u001b[39m)\n\u001b[1;32m----> 7\u001b[0m \u001b[38;5;28mprint\u001b[39m(\u001b[43mage\u001b[49m\u001b[43m \u001b[49m\u001b[38;5;241;43m+\u001b[39;49m\u001b[43m \u001b[49m\u001b[38;5;241;43m5\u001b[39;49m)\n",
      "\u001b[1;31mTypeError\u001b[0m: can only concatenate str (not \"int\") to str"
     ]
    }
   ],
   "source": [
    "# Type conversion\n",
    "age = \"42\"\n",
    "myAge = int(age)\n",
    "\n",
    "print(type(age))\n",
    "print(myAge + 5)\n",
    "print(age + 5)"
   ]
  },
  {
   "cell_type": "code",
   "execution_count": 5,
   "id": "1fb861c3",
   "metadata": {},
   "outputs": [
    {
     "name": "stdout",
     "output_type": "stream",
     "text": [
      "Hello, Indira!\n",
      "Hello My Friend, Indira!\n",
      "Hello, Indira!\n"
     ]
    }
   ],
   "source": [
    "# String formatting\n",
    "name = \"Indira\"\n",
    "print(\"Hello, \" + name + \"!\")\n",
    "print(\"Hello My Friend, {}!\".format(name))\n",
    "print(f\"Hello, {name}!\")"
   ]
  },
  {
   "cell_type": "code",
   "execution_count": 6,
   "id": "32ccf342",
   "metadata": {},
   "outputs": [
    {
     "name": "stdout",
     "output_type": "stream",
     "text": [
      "\n",
      "------ Personalized Greeting -----\n",
      "Hello, Indira!\n",
      "You are 24 years old and Red is a beautiful color!\n",
      "You're now ready to start your Python adventure\n"
     ]
    }
   ],
   "source": [
    "# Personalized greeting program\n",
    "\n",
    "# Step 1: Ask for user details\n",
    "name = input(\"What is your name? \")\n",
    "age = int(input(\"How old are you ? \"))\n",
    "color = input(\"What is your favorite color? \")\n",
    "\n",
    "# Step 2: Generate a personalized greeting message\n",
    "print(\"\\n------ Personalized Greeting -----\")\n",
    "print(f\"Hello, {name}!\")\n",
    "print(f\"You are {age} years old and {color} is a beautiful color!\")\n",
    "print(f\"You're now ready to start your Python adventure\")"
   ]
  },
  {
   "cell_type": "code",
   "execution_count": 9,
   "id": "a775e9fb",
   "metadata": {},
   "outputs": [
    {
     "name": "stdout",
     "output_type": "stream",
     "text": [
      "\n",
      "------ Personalized Greeting -----\n",
      "Hello, Indira!\n",
      "You are 31 years old and Red is a beautiful color!\n",
      "Fun fact! You have been living for 382.0 months and precisely 11656 days!\n",
      "Well, let's name you 'indira_denii' !You're now ready to start your Python adventure\n"
     ]
    }
   ],
   "source": [
    "from datetime import datetime, timedelta\n",
    "import random\n",
    "\n",
    "# Step 1: Ask for user details\n",
    "name = input(\"What is your name? \")\n",
    "birthday_date = datetime.strptime(input(\"What is your birthday date (YYYY-MM-DD)? \"), \"%Y-%m-%d\")\n",
    "color = input(\"What is your favorite color? \")\n",
    "\n",
    "age_days = (datetime.now() - birthday_date).days\n",
    "age = age_days // 365\n",
    "age_months = age_days // 30.44\n",
    "suffix = list((name + color).lower())\n",
    "random.shuffle(suffix)\n",
    "nickname = name.lower() + \"_\" + \"\".join(suffix[:5])\n",
    "\n",
    "# Step 2: Generate a personalized greeting message\n",
    "print(\"\\n------ Personalized Greeting -----\")\n",
    "print(f\"Hello, {name}!\")\n",
    "print(f\"You are {age} years old and {color} is a beautiful color!\")\n",
    "print(f\"Fun fact! You have been living for {age_months} months and precisely {age_days} days!\")\n",
    "\n",
    "print(f\"Well, let's name you '{nickname}' !You're now ready to start your Python adventure\")"
   ]
  },
  {
   "cell_type": "code",
   "execution_count": null,
   "id": "68db647c",
   "metadata": {},
   "outputs": [],
   "source": []
  }
 ],
 "metadata": {
  "kernelspec": {
   "display_name": "Python 3",
   "language": "python",
   "name": "python3"
  },
  "language_info": {
   "codemirror_mode": {
    "name": "ipython",
    "version": 3
   },
   "file_extension": ".py",
   "mimetype": "text/x-python",
   "name": "python",
   "nbconvert_exporter": "python",
   "pygments_lexer": "ipython3",
   "version": "3.11.8"
  }
 },
 "nbformat": 4,
 "nbformat_minor": 5
}
