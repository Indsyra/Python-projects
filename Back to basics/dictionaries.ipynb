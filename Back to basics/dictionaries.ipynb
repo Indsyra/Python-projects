{
 "cells": [
  {
   "cell_type": "code",
   "execution_count": 2,
   "id": "5885d26f",
   "metadata": {},
   "outputs": [
    {
     "name": "stdout",
     "output_type": "stream",
     "text": [
      "123-456-7890\n",
      "john@example.com\n"
     ]
    }
   ],
   "source": [
    "# Dictionaries : collection of key-value pairs where each key maps to a value\n",
    "\n",
    "my_dict = {\n",
    "    \"key1\": \"value1\",\n",
    "    \"key2\": \"value2\",\n",
    "    \"key3\": \"value3\",\n",
    "}\n",
    "\n",
    "contact = {\n",
    "    \"name\": \"John Doe\",\n",
    "    \"phone\": \"123-456-7890\",\n",
    "    \"email\": \"john@example.com\",\n",
    "}\n",
    "\n",
    "print(contact[\"phone\"])\n",
    "print(contact[\"email\"])"
   ]
  },
  {
   "cell_type": "code",
   "execution_count": 5,
   "id": "ca6b8dc4",
   "metadata": {},
   "outputs": [
    {
     "name": "stdout",
     "output_type": "stream",
     "text": [
      "john@example.com\n",
      "{'name': 'John Doe', 'phone': '987-654-3210', 'email': 'john@example.com'}\n"
     ]
    }
   ],
   "source": [
    "# Accessing and modifying values\n",
    "\n",
    "print(contact.get(\"email\"))  # Using get() to access value safely\n",
    "\n",
    "contact[\"phone\"] = \"987-654-3210\"  # Modifying value\n",
    "print(contact)  # Output: 987-654-3210"
   ]
  },
  {
   "cell_type": "code",
   "execution_count": 6,
   "id": "400c4218",
   "metadata": {},
   "outputs": [
    {
     "name": "stdout",
     "output_type": "stream",
     "text": [
      "{'name': 'John Doe', 'phone': '987-654-3210', 'email': 'john@example.com', 'address': '123 Main St'}\n"
     ]
    }
   ],
   "source": [
    "# Adding and removing entities\n",
    "\n",
    "contact[\"address\"] = \"123 Main St\"  # Adding new key-value pair\n",
    "print(contact)  # Output: {'name': 'John Doe', 'phone': '987-654-3210', 'email': '"
   ]
  },
  {
   "cell_type": "code",
   "execution_count": 7,
   "id": "058510a7",
   "metadata": {},
   "outputs": [
    {
     "name": "stdout",
     "output_type": "stream",
     "text": [
      "{'name': 'John Doe', 'phone': '987-654-3210', 'address': '123 Main St'}\n"
     ]
    }
   ],
   "source": [
    "del contact[\"email\"]  # Removing key-value pair\n",
    "print(contact)  # Output: {'name': 'John Doe', 'phone': '987-654-3210', 'address': '123 Main St'}"
   ]
  },
  {
   "cell_type": "code",
   "execution_count": 8,
   "id": "c478ddfe",
   "metadata": {},
   "outputs": [
    {
     "name": "stdout",
     "output_type": "stream",
     "text": [
      "name: John Doe\n",
      "phone: 987-654-3210\n",
      "address: 123 Main St\n"
     ]
    }
   ],
   "source": [
    "# Looping through dictionaries\n",
    "\n",
    "for key, value in contact.items():\n",
    "    print(f\"{key}: {value}\")"
   ]
  },
  {
   "cell_type": "code",
   "execution_count": 9,
   "id": "bd6f2fd4",
   "metadata": {},
   "outputs": [
    {
     "name": "stdout",
     "output_type": "stream",
     "text": [
      "Email not found.\n"
     ]
    }
   ],
   "source": [
    "if \"email\" in contact:\n",
    "    print(\"Email found.\")\n",
    "else:\n",
    "    print(\"Email not found.\")"
   ]
  },
  {
   "cell_type": "code",
   "execution_count": 10,
   "id": "fa0df07c",
   "metadata": {},
   "outputs": [
    {
     "name": "stdout",
     "output_type": "stream",
     "text": [
      "\n",
      "------ Contact Book Menu: ------\n",
      "1. Add Contact\n",
      "2. View Contacts\n",
      "3. View Contacts\n",
      "4. Edit Contact\n",
      "5. Delete Contact\n",
      "6. Exit\n",
      "Contact 'Vivian' added successfully.\n",
      "\n",
      "------ Contact Book Menu: ------\n",
      "1. Add Contact\n",
      "2. View Contacts\n",
      "3. View Contacts\n",
      "4. Edit Contact\n",
      "5. Delete Contact\n",
      "6. Exit\n",
      "\n",
      "------ Contacts: ------\n",
      "Name: Vivian, Phone: 123-456-7890, Email: vivian@vivian.com\n",
      "\n",
      "------ Contact Book Menu: ------\n",
      "1. Add Contact\n",
      "2. View Contacts\n",
      "3. View Contacts\n",
      "4. Edit Contact\n",
      "5. Delete Contact\n",
      "6. Exit\n",
      "Exiting the contact book. Goodbye!\n"
     ]
    }
   ],
   "source": [
    "# Contact book\n",
    "\n",
    "# Step 1:Initialize an empty contact book\n",
    "contacts = {}\n",
    "\n",
    "# Step 2: Display the menu\n",
    "def show_menu():\n",
    "    print(\"\\n------ Contact Book Menu: ------\")\n",
    "    print(\"1. Add Contact\")\n",
    "    print(\"2. View Contacts\")\n",
    "    print(\"3. Search Contacts\")\n",
    "    print(\"4. Edit Contact\")\n",
    "    print(\"5. Delete Contact\")\n",
    "    print(\"6. Exit\")\n",
    "    \n",
    "    \n",
    "# Step 3: Add a contact\n",
    "def add_contact():\n",
    "    name = input(\"Enter contact name: \")\n",
    "    phone = input(\"Enter contact number: \")\n",
    "    email = input(\"Enter contact email: \")\n",
    "    contacts[name] = {\"phone\": phone, \"email\": email}\n",
    "    print(f\"Contact '{name}' added successfully.\")\n",
    "    \n",
    "# Step 4: View all contacts\n",
    "def view_contacts():\n",
    "    if not contacts:\n",
    "        print(\"No contacts found.\")\n",
    "    else:\n",
    "        print(\"\\n------ Contacts: ------\")\n",
    "        for name, info in contacts.items():\n",
    "            print(f\"Name: {name}, Phone: {info['phone']}, Email: {info['email']}\")\n",
    "\n",
    "\n",
    "# Step 5: Search for a contact\n",
    "def search_contact():\n",
    "    name = input(\"Enter the name of the contact to search: \")\n",
    "    if name in contacts:\n",
    "        info = contacts[name]\n",
    "        print(f\"Contact found: Name: {name}, Phone: {info['phone']}, Email: {info['email']}\")\n",
    "    else:\n",
    "        print(f\"Contact '{name}' not found.\")\n",
    "        \n",
    "# Step 6: Edit a contact\n",
    "def edit_contact():\n",
    "    name = input(\"Enter the name of the contact to edit: \")\n",
    "    if name in contacts:\n",
    "        phone = input(\"Enter new phone number: \")\n",
    "        email = input(\"Enter new email: \")\n",
    "        contacts[name] = {\"phone\": phone, \"email\": email}\n",
    "        print(f\"Contact '{name}' updated successfully.\")\n",
    "    else:\n",
    "        print(f\"Contact '{name}' not found.\")\n",
    "        \n",
    "# Step 7: Delete a contact\n",
    "def delete_contact():\n",
    "    name = input(\"Enter the name of the contact to delete: \")\n",
    "    if name in contacts:\n",
    "        del contacts[name]\n",
    "        print(f\"Contact '{name}' deleted successfully.\")\n",
    "    else:\n",
    "        print(f\"Contact '{name}' not found.\")\n",
    "        \n",
    "# Step 8: Main Program Loop\n",
    "while True:\n",
    "    show_menu()\n",
    "    choice = input(\"Enter your choice (1-6): \")\n",
    "    \n",
    "    if choice == '1':\n",
    "        add_contact()\n",
    "    elif choice == '2':\n",
    "        view_contacts()\n",
    "    elif choice == '3':\n",
    "        search_contact()\n",
    "    elif choice == '4':\n",
    "        edit_contact()\n",
    "    elif choice == '5':\n",
    "        delete_contact()\n",
    "    elif choice == '6':\n",
    "        print(\"Exiting the contact book. Goodbye!\")\n",
    "        break\n",
    "    else:\n",
    "        print(\"Invalid choice. Please try again.\")"
   ]
  },
  {
   "cell_type": "code",
   "execution_count": null,
   "id": "23b1ec35",
   "metadata": {},
   "outputs": [],
   "source": []
  }
 ],
 "metadata": {
  "kernelspec": {
   "display_name": "Python 3",
   "language": "python",
   "name": "python3"
  },
  "language_info": {
   "codemirror_mode": {
    "name": "ipython",
    "version": 3
   },
   "file_extension": ".py",
   "mimetype": "text/x-python",
   "name": "python",
   "nbconvert_exporter": "python",
   "pygments_lexer": "ipython3",
   "version": "3.11.8"
  }
 },
 "nbformat": 4,
 "nbformat_minor": 5
}
