{
 "cells": [
  {
   "cell_type": "code",
   "execution_count": 1,
   "id": "ff4c3d04",
   "metadata": {},
   "outputs": [
    {
     "name": "stdout",
     "output_type": "stream",
     "text": [
      "4.0\n"
     ]
    }
   ],
   "source": [
    "# Module : Python file containing functions, classes and variables I can reuse in the code\n",
    "# Library : Collection of modules defined for a specific purpose\n",
    "\n",
    "import math\n",
    "\n",
    "print(math.sqrt(16))  # This will print 4.0"
   ]
  },
  {
   "cell_type": "code",
   "execution_count": 6,
   "id": "3c41af05",
   "metadata": {},
   "outputs": [
    {
     "name": "stdout",
     "output_type": "stream",
     "text": [
      "6\n"
     ]
    }
   ],
   "source": [
    "# Import modules\n",
    "import random, os, datetime\n",
    "print(random.randint(1, 10))  # This will print a random integer between 1 and 10"
   ]
  },
  {
   "cell_type": "code",
   "execution_count": 3,
   "id": "dfdfa0e3",
   "metadata": {},
   "outputs": [
    {
     "name": "stdout",
     "output_type": "stream",
     "text": [
      "['Apple']\n"
     ]
    }
   ],
   "source": [
    "# Import an entire module or a specific function from a module\n",
    "from random import choices\n",
    "print(choices([\"Apple\", \"Banana\", \"Cherry\"]))  # This will print a list of 2 random fruits"
   ]
  },
  {
   "cell_type": "code",
   "execution_count": 4,
   "id": "4dd6b018",
   "metadata": {},
   "outputs": [
    {
     "name": "stdout",
     "output_type": "stream",
     "text": [
      "9\n"
     ]
    }
   ],
   "source": [
    "import random as r\n",
    "print(r.randint(1,10))"
   ]
  },
  {
   "cell_type": "code",
   "execution_count": 5,
   "id": "cca37b66",
   "metadata": {},
   "outputs": [
    {
     "name": "stdout",
     "output_type": "stream",
     "text": [
      "3\n"
     ]
    }
   ],
   "source": [
    "from random import *\n",
    "\n",
    "print(randint(1, 10))  # This will print a random integer between 1 and 10"
   ]
  },
  {
   "cell_type": "code",
   "execution_count": 7,
   "id": "c6282370",
   "metadata": {},
   "outputs": [
    {
     "name": "stdout",
     "output_type": "stream",
     "text": [
      "HYolP1pK\n"
     ]
    }
   ],
   "source": [
    "import random\n",
    "\n",
    "password = ''.join(random.choices('abcdefghijklmnopqrstuvwxyzABCDEFGHIJKLMNOPQRSTUVWXYZ0123456789', k=8))\n",
    "print(password)  # This will print a random password of length 8"
   ]
  },
  {
   "cell_type": "code",
   "execution_count": 10,
   "id": "79b92196",
   "metadata": {},
   "outputs": [
    {
     "name": "stdout",
     "output_type": "stream",
     "text": [
      "Hello, John!\n"
     ]
    }
   ],
   "source": [
    "from assets import greetings\n",
    "\n",
    "print(greetings.say_hello(\"John\"))  # This will print \"Hello, World!\" from the greetings module"
   ]
  },
  {
   "cell_type": "code",
   "execution_count": 11,
   "id": "20421af5",
   "metadata": {},
   "outputs": [
    {
     "name": "stdout",
     "output_type": "stream",
     "text": [
      "Generated Password: %i6%aBg'2eZU<C\n"
     ]
    }
   ],
   "source": [
    "# Random password generator\n",
    "\n",
    "import random, string\n",
    "\n",
    "# Step 1 : Define Password Generation Function\n",
    "\n",
    "def generate_password(length=12):\n",
    "    if length < 4:\n",
    "        raise ValueError(\"Password length must be at least 4 characters\")\n",
    "    \n",
    "    # Character sets for the password\n",
    "    uppercase = string.ascii_uppercase\n",
    "    lowercase = string.ascii_lowercase\n",
    "    digits = string.digits\n",
    "    special_characters = string.punctuation\n",
    "    \n",
    "    # Ensure at least one character from each set is included\n",
    "    password = [\n",
    "        random.choice(uppercase),\n",
    "        random.choice(lowercase),\n",
    "        random.choice(digits),\n",
    "        random.choice(special_characters)\n",
    "    ]\n",
    "    \n",
    "    # Fill the rest of the password length with random choices from all sets\n",
    "    all_chars = uppercase + lowercase + digits + special_characters\n",
    "    password += random.choices(all_chars, k=length - 4)\n",
    "    \n",
    "    random.shuffle(password)  # Shuffle the list to ensure randomness\n",
    "    return ''.join(password)  # Join the list into a string\n",
    "\n",
    "\n",
    "# Step 2: User Interaction\n",
    "try:\n",
    "    length = int(input(\"Enter the desired password length (minimum 4): \"))\n",
    "    generated_password = generate_password(length)\n",
    "    print(f\"Generated Password: {generated_password}\")\n",
    "except ValueError as e:\n",
    "    print(f\"Error: {e}\")"
   ]
  },
  {
   "cell_type": "code",
   "execution_count": null,
   "id": "e2b9fad9",
   "metadata": {},
   "outputs": [],
   "source": []
  }
 ],
 "metadata": {
  "kernelspec": {
   "display_name": "Python 3",
   "language": "python",
   "name": "python3"
  },
  "language_info": {
   "codemirror_mode": {
    "name": "ipython",
    "version": 3
   },
   "file_extension": ".py",
   "mimetype": "text/x-python",
   "name": "python",
   "nbconvert_exporter": "python",
   "pygments_lexer": "ipython3",
   "version": "3.11.8"
  }
 },
 "nbformat": 4,
 "nbformat_minor": 5
}
