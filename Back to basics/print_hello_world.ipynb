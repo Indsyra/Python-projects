{
 "cells": [
  {
   "cell_type": "code",
   "execution_count": 2,
   "id": "1bd38343",
   "metadata": {},
   "outputs": [
    {
     "name": "stdout",
     "output_type": "stream",
     "text": [
      "Hello, Python World\n"
     ]
    }
   ],
   "source": [
    "# What is a print statement\n",
    "print(\"Hello, Python World\")"
   ]
  },
  {
   "cell_type": "code",
   "execution_count": 4,
   "id": "10dace18",
   "metadata": {},
   "outputs": [
    {
     "name": "stdout",
     "output_type": "stream",
     "text": [
      "The number is 4\n",
      "2 + 2 =  4\n"
     ]
    }
   ],
   "source": [
    "# How to use print with text and numbers\n",
    "print(\"The number is\", 4)\n",
    "print(\"2 + 2 = \", 2 + 2)"
   ]
  },
  {
   "cell_type": "code",
   "execution_count": 6,
   "id": "7678b5ae",
   "metadata": {},
   "outputs": [
    {
     "name": "stdout",
     "output_type": "stream",
     "text": [
      "Hello, Vivian! Welcome to Python Programming\n"
     ]
    }
   ],
   "source": [
    "# String formatting for dynamic messages\n",
    "name = \"Vivian\"\n",
    "print(f\"Hello, {name}! Welcome to Python Programming\")"
   ]
  },
  {
   "cell_type": "code",
   "execution_count": 7,
   "id": "133e2d71",
   "metadata": {},
   "outputs": [
    {
     "name": "stdout",
     "output_type": "stream",
     "text": [
      "Hello, Indira! Welcome to Python Programming\n"
     ]
    }
   ],
   "source": [
    "# Using user input with input\n",
    "name = input(\"What is your name? \")\n",
    "print(f\"Hello, {name}! Welcome to Python Programming\")"
   ]
  },
  {
   "cell_type": "code",
   "execution_count": 10,
   "id": "f7b11382",
   "metadata": {},
   "outputs": [
    {
     "name": "stdout",
     "output_type": "stream",
     "text": [
      "\n",
      "----- Welcome Message -----\n",
      "Hello, INDIRA!\n",
      "Welcome to the world of Python Programming.\n",
      "We are on : 2025-07-02 21:02:45\n",
      "It's great to know that you love Baking.\n",
      "Get ready to build something amazing today.\n"
     ]
    }
   ],
   "source": [
    "# Welcome Message Generator\n",
    "from datetime import datetime\n",
    "\n",
    "# Step 1: Ask for user details\n",
    "name = input(\"What's your name? \")\n",
    "hobby = input(\"What's your favorite hobby? \")\n",
    "\n",
    "# Step 2: Generate a personalized welcome message\n",
    "print(\"\\n----- Welcome Message -----\")\n",
    "print(f\"Hello, {name.upper()}!\")\n",
    "print(\"Welcome to the world of Python Programming.\")\n",
    "print(f\"We are on : {datetime.now().strftime('%Y-%m-%d %H:%M:%S')}\")\n",
    "print(f\"It's great to know that you love {hobby}.\")\n",
    "print(\"Get ready to build something amazing today.\")"
   ]
  },
  {
   "cell_type": "code",
   "execution_count": null,
   "id": "000b929a",
   "metadata": {},
   "outputs": [],
   "source": []
  }
 ],
 "metadata": {
  "kernelspec": {
   "display_name": "Python 3",
   "language": "python",
   "name": "python3"
  },
  "language_info": {
   "codemirror_mode": {
    "name": "ipython",
    "version": 3
   },
   "file_extension": ".py",
   "mimetype": "text/x-python",
   "name": "python",
   "nbconvert_exporter": "python",
   "pygments_lexer": "ipython3",
   "version": "3.11.8"
  }
 },
 "nbformat": 4,
 "nbformat_minor": 5
}
