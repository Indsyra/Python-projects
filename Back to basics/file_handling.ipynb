{
 "cells": [
  {
   "cell_type": "code",
   "execution_count": null,
   "id": "8c9da1ea",
   "metadata": {},
   "outputs": [],
   "source": [
    "# Way to store, access and manipulate files content\n",
    "\n",
    "file = open(\"./assets/notes.txt\", \"r+\")\n",
    "file.close()"
   ]
  },
  {
   "cell_type": "code",
   "execution_count": 4,
   "id": "718a310b",
   "metadata": {},
   "outputs": [
    {
     "name": "stdout",
     "output_type": "stream",
     "text": [
      "Hello files notes\n"
     ]
    }
   ],
   "source": [
    "with open(\"./assets/notes.txt\", \"r\") as file: #Everything opened here when it is no longer required is closed\n",
    "    content = file.read()\n",
    "    print(content)"
   ]
  },
  {
   "cell_type": "code",
   "execution_count": null,
   "id": "a941c157",
   "metadata": {},
   "outputs": [],
   "source": [
    "with open(\"./assets/notes.txt\", \"w\") as file: #Overwrite the whole content\n",
    "    file.write(\"\\nThis is a new note.\\n\")"
   ]
  },
  {
   "cell_type": "code",
   "execution_count": 7,
   "id": "5e7769c8",
   "metadata": {},
   "outputs": [],
   "source": [
    "with open(\"./assets/notes.txt\", \"a\") as file: #Append a content at the end of the file\n",
    "    file.write(\"\\nThis is a new second note.\")"
   ]
  },
  {
   "cell_type": "code",
   "execution_count": 8,
   "id": "2b81d240",
   "metadata": {},
   "outputs": [
    {
     "name": "stdout",
     "output_type": "stream",
     "text": [
      "\n",
      "--- Note-Taking App Menu ----\n",
      "1. Add a new note\n",
      "2. View all notes\n",
      "3. Delete all notes\n",
      "4. Exit\n",
      "Note added successfuly\n",
      "\n",
      "--- Note-Taking App Menu ----\n",
      "1. Add a new note\n",
      "2. View all notes\n",
      "3. Delete all notes\n",
      "4. Exit\n",
      "Invalid choice. Please enter a number between 1 and 4.\n",
      "\n",
      "--- Note-Taking App Menu ----\n",
      "1. Add a new note\n",
      "2. View all notes\n",
      "3. Delete all notes\n",
      "4. Exit\n",
      "Invalid choice. Please enter a number between 1 and 4.\n",
      "\n",
      "--- Note-Taking App Menu ----\n",
      "1. Add a new note\n",
      "2. View all notes\n",
      "3. Delete all notes\n",
      "4. Exit\n",
      "\n",
      "----- Your Notes -----\n",
      "Hello my name is Indira\n",
      "\n",
      "\n",
      "--- Note-Taking App Menu ----\n",
      "1. Add a new note\n",
      "2. View all notes\n",
      "3. Delete all notes\n",
      "4. Exit\n",
      "\n",
      "----- Your Notes -----\n",
      "Hello my name is Indira\n",
      "\n",
      "\n",
      "--- Note-Taking App Menu ----\n",
      "1. Add a new note\n",
      "2. View all notes\n",
      "3. Delete all notes\n",
      "4. Exit\n",
      "Note added successfuly\n",
      "\n",
      "--- Note-Taking App Menu ----\n",
      "1. Add a new note\n",
      "2. View all notes\n",
      "3. Delete all notes\n",
      "4. Exit\n",
      "Note added successfuly\n",
      "\n",
      "--- Note-Taking App Menu ----\n",
      "1. Add a new note\n",
      "2. View all notes\n",
      "3. Delete all notes\n",
      "4. Exit\n",
      "Exiting Note-Taking App. Goodbye !\n"
     ]
    }
   ],
   "source": [
    "# Note-Taking App\n",
    "\n",
    "# Step 1: Define file name\n",
    "FILE_NAME = \"./assets/myNotes.txt\"\n",
    "\n",
    "# Step 2: Display menu options\n",
    "def show_menu():\n",
    "    print(\"\\n--- Note-Taking App Menu ----\")\n",
    "    print(\"1. Add a new note\")\n",
    "    print(\"2. View all notes\")\n",
    "    print(\"3. Delete all notes\")\n",
    "    print(\"4. Exit\")\n",
    "    \n",
    "# Step 3: Add a new note\n",
    "\n",
    "def add_note():\n",
    "    note = input(\"Enter your note: \")\n",
    "    with open(FILE_NAME, \"a\") as file:\n",
    "        file.write(note + \"\\n\")\n",
    "    print(\"Note added successfuly\")\n",
    "    \n",
    "# Step 4: View all notes\n",
    "def view_notes():\n",
    "    try:\n",
    "        with open(FILE_NAME, \"r\") as file:\n",
    "            content = file.read()\n",
    "            if content:\n",
    "                print(\"\\n----- Your Notes -----\")\n",
    "                print(content)\n",
    "            else:\n",
    "                print(\"\\nNo Notes found.\")\n",
    "    except FileNotFoundError:\n",
    "        print(\"No notes found.\")\n",
    "        \n",
    "# Step 5 : Delete all notes\n",
    "def delete_notes():\n",
    "    confirm = input(\"Are you sure you want to delete all notes ? (Yes/n): \")\n",
    "    if confirm.lower() == \"yes\":\n",
    "        with open(FILE_NAME, \"w\") as file:\n",
    "            pass\n",
    "        print(\"All notes have been deleted\")\n",
    "    else :\n",
    "        print(\"Deletion cancelled\")\n",
    "        \n",
    "# Step 6: Main program loop\n",
    "while True:\n",
    "    show_menu()\n",
    "    choice = input(\"Enter your choice (1-4): \")\n",
    "    \n",
    "    if choice == \"1\":\n",
    "        add_note()\n",
    "    elif choice == \"2\":\n",
    "        view_notes()\n",
    "    elif choice == \"3\":\n",
    "        delete_notes()\n",
    "    elif choice == \"4\":\n",
    "        print(\"Exiting Note-Taking App. Goodbye !\")\n",
    "        break\n",
    "    else:\n",
    "        print(\"Invalid choice. Please enter a number between 1 and 4.\")"
   ]
  }
 ],
 "metadata": {
  "kernelspec": {
   "display_name": "Python 3",
   "language": "python",
   "name": "python3"
  },
  "language_info": {
   "codemirror_mode": {
    "name": "ipython",
    "version": 3
   },
   "file_extension": ".py",
   "mimetype": "text/x-python",
   "name": "python",
   "nbconvert_exporter": "python",
   "pygments_lexer": "ipython3",
   "version": "3.11.8"
  }
 },
 "nbformat": 4,
 "nbformat_minor": 5
}
