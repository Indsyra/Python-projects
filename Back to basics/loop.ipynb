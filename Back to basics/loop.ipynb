{
 "cells": [
  {
   "cell_type": "code",
   "execution_count": null,
   "id": "14452083",
   "metadata": {},
   "outputs": [],
   "source": [
    "# What are loops ? Repeat a block of code multiple times."
   ]
  },
  {
   "cell_type": "code",
   "execution_count": null,
   "id": "caa13fa8",
   "metadata": {},
   "outputs": [],
   "source": [
    "# For Loops.Repeats for a defined occurrences\n",
    "\n",
    "for variable in range(start=0, stop, step): #stop not included, step=1\n",
    "    # Code to repeat"
   ]
  },
  {
   "cell_type": "code",
   "execution_count": 3,
   "id": "86200f6f",
   "metadata": {},
   "outputs": [
    {
     "name": "stdout",
     "output_type": "stream",
     "text": [
      "0\n",
      "1\n",
      "2\n",
      "3\n",
      "4\n"
     ]
    }
   ],
   "source": [
    "for i in range(5):\n",
    "    print(i)"
   ]
  },
  {
   "cell_type": "code",
   "execution_count": 4,
   "id": "01c20a4c",
   "metadata": {},
   "outputs": [
    {
     "name": "stdout",
     "output_type": "stream",
     "text": [
      "5\n",
      "4\n",
      "3\n",
      "2\n",
      "1\n"
     ]
    }
   ],
   "source": [
    "for i in range(5, 0, -1):\n",
    "    print(i)"
   ]
  },
  {
   "cell_type": "code",
   "execution_count": null,
   "id": "524320d5",
   "metadata": {},
   "outputs": [],
   "source": [
    "# While loops. Repeats until the condition to remain in the loop does not apply\n",
    "while condition:\n",
    "    # Code to repeat"
   ]
  },
  {
   "cell_type": "code",
   "execution_count": 5,
   "id": "c4c7da62",
   "metadata": {},
   "outputs": [
    {
     "name": "stdout",
     "output_type": "stream",
     "text": [
      "5\n",
      "4\n",
      "3\n",
      "2\n",
      "1\n"
     ]
    }
   ],
   "source": [
    "count = 5\n",
    "while count > 0:\n",
    "    print(count)\n",
    "    count -= 1"
   ]
  },
  {
   "cell_type": "code",
   "execution_count": 6,
   "id": "c10f3a26",
   "metadata": {},
   "outputs": [
    {
     "name": "stdout",
     "output_type": "stream",
     "text": [
      "0\n",
      "1\n",
      "2\n",
      "3\n",
      "4\n"
     ]
    }
   ],
   "source": [
    "count = 0\n",
    "while count < 5:\n",
    "    print(count)\n",
    "    count += 1"
   ]
  },
  {
   "cell_type": "code",
   "execution_count": 7,
   "id": "6cd941a4",
   "metadata": {},
   "outputs": [
    {
     "name": "stdout",
     "output_type": "stream",
     "text": [
      "5\n",
      "4\n",
      "3\n",
      "2\n",
      "1\n",
      "Happy New Year!\n"
     ]
    }
   ],
   "source": [
    "# Using time.sleep() for delays\n",
    "import time\n",
    "\n",
    "for i in range(5, 0, -1):\n",
    "    print(i)\n",
    "    time.sleep(1)\n",
    "print(\"Happy New Year!\")"
   ]
  },
  {
   "cell_type": "code",
   "execution_count": null,
   "id": "5ae465de",
   "metadata": {},
   "outputs": [
    {
     "name": "stdout",
     "output_type": "stream",
     "text": [
      "\n",
      "---- Countdown begins ----\n",
      "7\n",
      "6\n",
      "5\n",
      "4\n",
      "3\n",
      "2\n",
      "1\n",
      "Countdown Complete!\n"
     ]
    }
   ],
   "source": [
    "# Countdown timer\n",
    "\n",
    "import time\n",
    "\n",
    "# Step 1: Get user input for countdown start\n",
    "start = int(input(\"Enter the number to start the countdown from: \"))\n",
    "\n",
    "# Step 2: Countdown using a while loop\n",
    "print(\"\\n---- Countdown begins ----\")\n",
    "while start > 0:\n",
    "    print(start)\n",
    "    time.sleep(1)\n",
    "    start -= 1\n",
    "\n",
    "# Step 3: Print final message\n",
    "print(\"Countdown Complete!\")"
   ]
  },
  {
   "cell_type": "code",
   "execution_count": null,
   "id": "3eafdcd4",
   "metadata": {},
   "outputs": [],
   "source": []
  }
 ],
 "metadata": {
  "kernelspec": {
   "display_name": "Python 3",
   "language": "python",
   "name": "python3"
  },
  "language_info": {
   "codemirror_mode": {
    "name": "ipython",
    "version": 3
   },
   "file_extension": ".py",
   "mimetype": "text/x-python",
   "name": "python",
   "nbconvert_exporter": "python",
   "pygments_lexer": "ipython3",
   "version": "3.11.8"
  }
 },
 "nbformat": 4,
 "nbformat_minor": 5
}
