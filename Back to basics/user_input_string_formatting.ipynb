{
 "cells": [
  {
   "cell_type": "code",
   "execution_count": 2,
   "id": "03042433",
   "metadata": {},
   "outputs": [
    {
     "name": "stdout",
     "output_type": "stream",
     "text": [
      "Hello,  Indira\n"
     ]
    }
   ],
   "source": [
    "# User input with input()\n",
    "name = input(\"Enter your name: \")\n",
    "print(f\"Hello,  {name}\")"
   ]
  },
  {
   "cell_type": "code",
   "execution_count": 4,
   "id": "b6f58a14",
   "metadata": {},
   "outputs": [
    {
     "name": "stdout",
     "output_type": "stream",
     "text": [
      "Number doubled: 84\n"
     ]
    }
   ],
   "source": [
    "# Conversion (int() and float())\n",
    "num1 = input(\"Enter a number: \")\n",
    "num1 = int(num1)\n",
    "print(f\"Number doubled: {num1 * 2}\")"
   ]
  },
  {
   "cell_type": "code",
   "execution_count": 5,
   "id": "7528c7cd",
   "metadata": {},
   "outputs": [
    {
     "name": "stdout",
     "output_type": "stream",
     "text": [
      "The sum of 42 and 12 is 54.\n"
     ]
    }
   ],
   "source": [
    "# String formatting with f-strings\n",
    "num1 = int(input(\"Enter first number: \"))\n",
    "num2 = int(input(\"Enter second number: \"))\n",
    "\n",
    "result = num1 + num2\n",
    "\n",
    "print(f\"The sum of {num1} and {num2} is {result}.\")"
   ]
  },
  {
   "cell_type": "code",
   "execution_count": 7,
   "id": "bb1dc783",
   "metadata": {},
   "outputs": [
    {
     "name": "stdout",
     "output_type": "stream",
     "text": [
      "Addition: 15\n",
      "Substraction: 5\n",
      "Multiplication: 50\n",
      "Division: 2.0\n",
      "Floor Division: 2\n",
      "Modulus: 0\n",
      "Exponentiation: 100000\n"
     ]
    }
   ],
   "source": [
    "# Basic arithmetic operations\n",
    "a = 10\n",
    "b = 5\n",
    "\n",
    "print(f\"Addition: {a + b}\")\n",
    "print(f\"Substraction: {a - b}\")\n",
    "print(f\"Multiplication: {a * b}\")\n",
    "print(f\"Division: {a / b}\")\n",
    "print(f\"Floor Division: {a // b}\")\n",
    "print(f\"Modulus: {a % b}\")\n",
    "print(f\"Exponentiation: {a ** b}\")"
   ]
  },
  {
   "cell_type": "code",
   "execution_count": 9,
   "id": "8f77b629",
   "metadata": {},
   "outputs": [
    {
     "name": "stdout",
     "output_type": "stream",
     "text": [
      "\n",
      "----- Calculator operations -----\n",
      "1. Addition\n",
      "2. Substraction\n",
      "3. Multiplication\n",
      "4. Division\n",
      "5. Modulus\n",
      "6. Exponentiation\n",
      "\n",
      "------ Calculator Results ------\n",
      "Multiplication: 41.0 x 6.0 = 246.0\n"
     ]
    }
   ],
   "source": [
    "# Simple Calculator\n",
    "\n",
    "# Bonus\n",
    "print(\"\\n----- Calculator operations -----\")\n",
    "print(\"1. Addition\")\n",
    "print(\"2. Substraction\")\n",
    "print(\"3. Multiplication\")\n",
    "print(\"4. Division\")\n",
    "print(\"5. Modulus\")\n",
    "print(\"6. Exponentiation\")\n",
    "\n",
    "operation = input(\"Which operation would you want to perform ?\")\n",
    "\n",
    "# Step 1 : Get user input for two numbers\n",
    "number1 = float(input(\"Enter the first number : \"))\n",
    "number2 = float(input(\"Enter the second number : \"))\n",
    "\n",
    "print(\"\\n------ Calculator Results ------\")\n",
    "\n",
    "# Step 2: Perform arithmetic operation\n",
    "# Bonus\n",
    "if operation == '1':\n",
    "    addition = number1 + number2\n",
    "    print(f\"Addition: {number1} + {number2} = {addition}\")\n",
    "elif operation == '2':\n",
    "    substraction = number1 - number2\n",
    "    print(f\"Substraction: {number1} - {number2} = {substraction}\")\n",
    "elif operation == '3':\n",
    "    multiplication = number1 * number2\n",
    "    print(f\"Multiplication: {number1} x {number2} = {multiplication}\")\n",
    "elif operation == '4':\n",
    "    try:\n",
    "        division = number1 / number2 if num2 !=0  else \"Cannot divided by zero\"\n",
    "        print(f\"Division: {number1} / {number2} = {division}\")\n",
    "    except ZeroDivisionError:\n",
    "        print(\"It is not possible to divide by zero.\")\n",
    "elif operation == '5':\n",
    "    modulus = number1 % number2\n",
    "    print(f\"Multiplication: {number1} | {number2} = {modulus}\")\n",
    "elif operation == '6':\n",
    "    exponentiation = number1 ** number2\n",
    "    print(f\"Multiplication: {number1} ^ {number2} = {exponentiation}\")\n",
    "else:\n",
    "    print(\"Invalid option. Please try again.\")\n",
    "\n",
    "\n",
    "\n",
    "\n",
    "# Step 3: Display the results\n",
    "\n",
    "\n",
    "\n",
    "\n"
   ]
  },
  {
   "cell_type": "code",
   "execution_count": null,
   "id": "5868f9f4",
   "metadata": {},
   "outputs": [],
   "source": []
  }
 ],
 "metadata": {
  "kernelspec": {
   "display_name": "Python 3",
   "language": "python",
   "name": "python3"
  },
  "language_info": {
   "codemirror_mode": {
    "name": "ipython",
    "version": 3
   },
   "file_extension": ".py",
   "mimetype": "text/x-python",
   "name": "python",
   "nbconvert_exporter": "python",
   "pygments_lexer": "ipython3",
   "version": "3.11.8"
  }
 },
 "nbformat": 4,
 "nbformat_minor": 5
}
